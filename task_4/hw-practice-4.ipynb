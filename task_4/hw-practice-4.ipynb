{
 "cells": [
  {
   "cell_type": "markdown",
   "metadata": {},
   "source": [
    "# Машинное обучение, ММП ВМК МГУ\n",
    "\n",
    "## Практическое задание 4. Разложение ошибки на смещение и разброс. Градиентный бустинг ~~своими руками~~\n",
    "\n",
    "### Общая информация\n",
    "\n",
    "Дата выдачи: 09.12.2019\n",
    "\n",
    "Мягкий дедлайн: 23:59MSK 22.12.2019\n",
    "\n",
    "Жесткий дедлайн: 23:59MSK 29.12.2019\n",
    "\n",
    "### Оценивание и штрафы\n",
    "Каждая из задач имеет определенную «стоимость» (указана в скобках около задачи). Максимально допустимая оценка за работу — 10 баллов.\n",
    "\n",
    "Сдавать задание после указанного срока сдачи нельзя. При выставлении неполного балла за задание в связи с наличием ошибок на усмотрение проверяющего предусмотрена возможность исправить работу на указанных в ответном письме условиях.\n",
    "\n",
    "Задание выполняется самостоятельно. «Похожие» решения считаются плагиатом и все задействованные студенты (в том числе те, у кого списали) не могут получить за него больше 0 баллов (подробнее о плагиате см. на странице курса). Если вы нашли решение какого-то из заданий (или его часть) в открытом источнике, необходимо указать ссылку на этот источник в отдельном блоке в конце вашей работы (скорее всего вы будете не единственным, кто это нашел, поэтому чтобы исключить подозрение в плагиате, необходима ссылка на источник).\n",
    "\n",
    "Неэффективная реализация кода может негативно отразиться на оценке.\n",
    "\n",
    "### Формат сдачи\n",
    "Задания сдаются через систему anytask. Посылка должна содержать:\n",
    "* Ноутбук homework-practice-06-Username.ipynb\n",
    "\n",
    "Username — ваша фамилия и имя на латинице именно в таком порядке\n",
    "\n",
    "### О задании\n",
    "\n",
    "В этом задании вам предстоит воспользоваться возможностями bootstraping для оценки смещения и разброса алгоритмов машинного обучения. Делать мы это будем на данных boston. \n",
    "Также в задании вам будет предложено пообучать готовые модели градиентного бустинга и CatBoost."
   ]
  },
  {
   "cell_type": "markdown",
   "metadata": {},
   "source": [
    "## Часть 1. Bias-Variance Decomposition"
   ]
  },
  {
   "cell_type": "code",
   "execution_count": 1,
   "metadata": {},
   "outputs": [],
   "source": [
    "import numpy as np\n",
    "import pandas as pd\n",
    "from matplotlib import pyplot as plt\n",
    "%matplotlib inline"
   ]
  },
  {
   "cell_type": "code",
   "execution_count": 2,
   "metadata": {},
   "outputs": [],
   "source": [
    "from sklearn.datasets import load_boston"
   ]
  },
  {
   "cell_type": "code",
   "execution_count": 3,
   "metadata": {},
   "outputs": [],
   "source": [
    "boston = load_boston()"
   ]
  },
  {
   "cell_type": "code",
   "execution_count": 4,
   "metadata": {},
   "outputs": [],
   "source": [
    "X = boston[\"data\"]\n",
    "y = boston[\"target\"]"
   ]
  },
  {
   "cell_type": "code",
   "execution_count": 5,
   "metadata": {},
   "outputs": [
    {
     "data": {
      "text/plain": [
       "((506, 13), (506,))"
      ]
     },
     "execution_count": 5,
     "metadata": {},
     "output_type": "execute_result"
    }
   ],
   "source": [
    "X.shape, y.shape"
   ]
  },
  {
   "cell_type": "markdown",
   "metadata": {},
   "source": [
    "### Вычисление bias и variance с помощью бутстрапа\n",
    "На лекции была выведено следующая формула, показывающая, как можно представить ошибку алгоритма регрессии в виде суммы трех компонент:\n",
    "$$\n",
    "L(\\mu) = \n",
    "    \\mathbb{E}_{x, y}\\bigl[\\mathbb{E}_{X}\\bigl[ (y - \\mu(X)(x))^2 \\bigr]\\bigr] = \n",
    "$$\n",
    "$$\n",
    "    \\underbrace{\\mathbb{E}_{x, y}\\bigl[(y - \\mathbb{E}[y|x] )^2\\bigr]}_{\\text{шум}} + \\underbrace{\\mathbb{E}_{x}\\bigl[(\\mathbb{E}_{X}[\\mu(X)(x)] - \\mathbb{E}[y|x] )^2\\bigr]}_{\\text{смещение}} +\n",
    "    \\underbrace{\\mathbb{E}_{x}\\bigl[\\mathbb{E}_{X}\\bigl[(\\mu(X)(x) - \\mathbb{E}_{X}[\\mu(X)(x)] )^2\\bigr]\\bigr]}_{\\text{разброс}},\n",
    "$$\n",
    "* $\\mu(X)$ — алгоритм, обученный по выборке $X = \\{(x_1, y_1), \\dots (x_\\ell, y_\\ell)\\}$;\n",
    "* $\\mu(X)(x)$ — ответ алгоритма, обученного по выборке $X$, на объекте $x$;\n",
    "* $\\mathbb{E}_{X}$ — мат. ожидание по всем возможным выборкам;\n",
    "* $\\mathbb{E}_{X}[\\mu(X)(x)]$ — \"средний\" ответ алгоритма, обученного по всем возможным выборкам $X$, на объекте $x$.\n",
    "    \n",
    "С помощью этой формулы мы можем анализировать свойства алгоритма обучения модели $\\mu$, если зададим вероятностную модель порождения пар $p(x, y)$.\n",
    "\n",
    "В реальных задачах мы, конечно же, не знаем распределение на парах объект - правильный ответ. Однако у нас есть набор семплов из этого распределения (обучающую выборка), и мы можем использовать его, чтобы оценивать математические ожидания. Для оценки мат. ожиданий по выборкам мы будем пользоваться бутстрэпом - методом генерации \"новых\" выборок из одной с помощью выбора объектов с возвращением. Разберем несколько шагов на пути к оценке смещения и разброса.\n",
    "\n",
    "#### Приближенное вычисление интегралов\n",
    "На занятиях мы разбирали примеры аналитического вычисления смещения и разброса нескольких алгоритмов обучения. Для большинства моделей данных и алгоритмов обучения аналитически рассчитать математические ожидания в формулах не удастся. Однако мат. ожидания можно оценивать приближенно. Чтобы оценить математическое ожидание $\\mathbb{E}_{\\bar z} f(\\bar z)$ функции от многомерной случайной величины $\\bar z = (z_1, \\dots, z_d)$, $\\bar z \\sim p(\\bar z)$, можно сгенерировать выборку из распределения $p(\\bar z)$ и усреднить значение функции на элементах этой выборки:\n",
    "$$\\mathbb{E}_{\\bar z} f(z) = \\int f(\\bar z) p(\\bar z) d \\bar z \\approx \\frac 1 m \\sum_{i=1}^m f(\\bar z_i), \\, \\bar z_i \\sim p(\\bar z), i = 1, \\dots, m.$$\n",
    "\n",
    "Например, оценим $\\mathbb{E}_z z^2,$ $z \\sim \\mathcal{N}(\\mu=5, \\sigma=3)$ (из теории вероятностей мы знаем, что\n",
    "$\\mathbb{E}_z z^2 = \\sigma^2 + \\mu^2 = 34$):"
   ]
  },
  {
   "cell_type": "code",
   "execution_count": 6,
   "metadata": {},
   "outputs": [
    {
     "data": {
      "text/plain": [
       "33.65511372061709"
      ]
     },
     "execution_count": 6,
     "metadata": {},
     "output_type": "execute_result"
    }
   ],
   "source": [
    "z = np.random.normal(loc=5, scale=3, size=1000)\n",
    "(z**2).mean()"
   ]
  },
  {
   "cell_type": "markdown",
   "metadata": {},
   "source": [
    "#### Оценивание $\\mathbb{E}_{x, y}$\n",
    "Оценить мат. ожидания по $x$ и по $x, y$, встречающиеся во всех трех компонентах разложения, несложно, потому что у нас есть выборка объектов из распределения данных $p(x, y)$:\n",
    "$$ \\mathbb{E}_{x} f(x) \\approx \\frac 1 N \\sum_{i=1}^N f(x_i), \\quad\n",
    "\\mathbb{E}_{x, y} f(x, y) \\approx \\frac 1 N \\sum_{i=1}^N f(x_i, y_i),$$\n",
    "где $N$ - число объектов в выборке, $\\{(x_i, y_i)\\}_{i=1}^N$ - сама выборка. \n",
    "\n",
    "#### Оценивание $\\mathbb{E}_X$ с помощью бутстрапа\n",
    "Чтобы оценить мат. ожидание по $X$, нам понадобится выборка из выборок:\n",
    "$$\\mathbb{E}_X f(X) \\approx \\frac 1 s \\sum_{j=1}^s f(X_j),$$\n",
    "где $X_j$ - $j$-я выборка. Чтобы их получить, мы можем воспользоваться бутстрапом - методом генерации выборок на основе выбора объектов с возвращением. Чтобы составить одну выборку, будем $N$ раз выбирать индекс объекта $i \\sim \\text{Uniform}(1 \\dots N)$ и добавлять $i$-ю пару (объект, целевая переменная) в выборку. В результате в каждой выборке могут появиться повторяющиеся объекты, а какие-то объекты могут вовсе не войти в некоторые выборки.\n",
    "\n",
    "#### Итоговый алгоритм оценки смещения и разброса алгоритма $a$\n",
    "1. Сгенерировать $s$ выборок $X_j$ методом бутстрапа.\n",
    "1. На каждой выборке $X_j$ обучить алгоритм $a_j$.\n",
    "1. Для каждой выборки $X_j$ определить множество объектов $T_j$, не вошедших в нее (out-of-bag). Вычислить предсказания алгоритма $a_j$ на объектах $T_j$. \n",
    "\n",
    "Поскольку у нас есть только один ответ для каждого объекта, мы будем считать шум равным 0, а $\\mathbb{E}[y|x]$ равным имеющемуся правильному ответу для объекта $x$. \n",
    "\n",
    "Итоговые оценки:\n",
    "* Смещение: для одного объекта - квадрат разности среднего предсказания и правильного ответа. Среднее предсказание берется только по тем алгоритмам $a_j$, для которых этот объект входил в out-of-bag выборку $T_j$. Для получения общего смещения выполнить усреденение смещений по объектам.\n",
    "* Разброс: для одного объекта - выборочная дисперсия предсказаний алгоритмов $a_j$, для которых этот объект входил в out-of-bag выборку $T_j$. Для получения общего разброса выполнить усреденение разбросов по объектам.\n",
    "* Ошибка $L$: усреднить квадраты разностей предсказания и правильного ответа по всем выполненным предсказаниям для всех объектов.\n",
    "\n",
    "В результате должно получиться, что ошибка приблизительно равна сумме смещения и разброса!\n",
    "\n",
    "Алгоритм также вкратце описан по [ссылке](https://web.engr.oregonstate.edu/~tgd/classes/534/slides/part9.pdf) (слайды 19-21).\n",
    "\n",
    "__Задание 1. (3 балла)__\n",
    "\n",
    "Реализуйте описанный алгоритм. Обратите внимание, что если объект не вошел ни в одну из out-of-bag выборок, учитывать его в вычислении итоговых величин не нужно. Как обычно, разрешается использовать только один цикл - по выборкам (от 0 до num_runs-1)."
   ]
  },
  {
   "cell_type": "code",
   "execution_count": 40,
   "metadata": {},
   "outputs": [],
   "source": [
    "def compute_biase_variance(regressor, X, y, num_runs=1000):\n",
    "    lenw, lenh = X.shape\n",
    "    \n",
    "    mas_sums = np.zeros(lenw, dtype=np.float64)\n",
    "    mas_sq_sums = mas_sums.copy()\n",
    "    mas_out_of_bag = np.zeros(lenw, dtype=np.int32)\n",
    "    error_sum = 0\n",
    "    pred_size = 0\n",
    "    \n",
    "    for i in range(num_runs):\n",
    "        ind = np.random.randint(0, lenw, lenw)\n",
    "        ind_out_of_bag = np.setdiff1d(np.arange(lenw), ind)\n",
    "        \n",
    "        regressor.fit(X[ind], y[ind])\n",
    "        pred_out_of_bag = regressor.predict(X[ind_out_of_bag])\n",
    "        \n",
    "        mas_sums[ind_out_of_bag] += pred_out_of_bag\n",
    "        mas_sq_sums[ind_out_of_bag] += np.square(pred_out_of_bag)\n",
    "        mas_out_of_bag[ind_out_of_bag] += 1\n",
    "        \n",
    "        error_sum += np.square(pred_out_of_bag - y[ind_out_of_bag]).sum()\n",
    "        pred_size += ind_out_of_bag.size\n",
    "    bias = np.square(mas_sums / mas_out_of_bag - y).mean()\n",
    "    variance = (mas_sq_sums / mas_out_of_bag - np.square(mas_sums/mas_out_of_bag)).mean()\n",
    "    err = error_sum / pred_size\n",
    "\n",
    "    return bias, variance, err"
   ]
  },
  {
   "cell_type": "markdown",
   "metadata": {},
   "source": [
    "**Задание 2. (1 балл)**\n",
    "\n",
    "Оцените смещение, разброс и ошибку для трех алгоритмов с гиперпараметрами по умолчанию: линейная регрессия, решающее дерево, случайный лес.\n"
   ]
  },
  {
   "cell_type": "code",
   "execution_count": 41,
   "metadata": {},
   "outputs": [],
   "source": [
    "from sklearn.linear_model import LinearRegression\n",
    "from sklearn.tree import DecisionTreeRegressor\n",
    "from sklearn.ensemble import RandomForestRegressor"
   ]
  },
  {
   "cell_type": "code",
   "execution_count": 42,
   "metadata": {},
   "outputs": [
    {
     "name": "stdout",
     "output_type": "stream",
     "text": [
      "LinearRegression:\n",
      "\tBias = 23.696\n",
      "\tVariance = 0.90896\n",
      "\tLoss = 24.438\n",
      "DecisionTreeRegressor:\n",
      "\tBias = 10.232\n",
      "\tVariance = 13.044\n",
      "\tLoss = 23.363\n"
     ]
    },
    {
     "name": "stderr",
     "output_type": "stream",
     "text": [
      "C:\\Users\\Lev\\Anaconda3\\lib\\site-packages\\sklearn\\ensemble\\forest.py:245: FutureWarning: The default value of n_estimators will change from 10 in version 0.20 to 100 in 0.22.\n",
      "  \"10 in version 0.20 to 100 in 0.22.\", FutureWarning)\n"
     ]
    },
    {
     "name": "stdout",
     "output_type": "stream",
     "text": [
      "RandomForestRegressor:\n",
      "\tBias = 10.609\n",
      "\tVariance = 3.4031\n",
      "\tLoss = 14.033\n"
     ]
    }
   ],
   "source": [
    "regressors = {\n",
    "    'LinearRegression': LinearRegression(), \n",
    "    'DecisionTreeRegressor': DecisionTreeRegressor(),\n",
    "    'RandomForestRegressor': RandomForestRegressor()\n",
    "}\n",
    "\n",
    "for regressor_name in regressors:\n",
    "    bias, variance, error = compute_biase_variance(regressors[regressor_name], X, y, num_runs=1000)\n",
    "    print(\"{}:\".format(regressor_name))\n",
    "    print(\"\\tBias = {:.5}\".format(bias))\n",
    "    print(\"\\tVariance = {:.5}\".format(variance))\n",
    "    print(\"\\tLoss = {:.5}\".format(error))"
   ]
  },
  {
   "cell_type": "markdown",
   "metadata": {},
   "source": [
    "Проанализируйте полученный результат. Согласуются ли полученные результаты с теми, что мы обсуждали на семинарах (с комментарием)?\n",
    "\n",
    "__Your answer here:__\n",
    "\n",
    "- Мы можем приближенно оценить ошибку регрессии рассматривая сдвиг и разброс\n",
    "- Линейная регресия имеет большой сдвиг, но при этом маленький разброс. Возможно это связанно с рассматриваемыми данными и не ленейной зависимостью между ними\n",
    "- Обычное дерево же наоборот маленький сдвиг и больший разброс(по сравнению с ленейной регрессией), так как дерево плохо обобщает данные выборки\n",
    "- Ансамбль деревьев должен теоритически уменьшить разброс что и проказано в эксперименте\n",
    "\n",
    "Вспомните обсуждение с лекции о том, во сколько раз в теории бутстрап уменьшает разброс базового алгоритма. Выполняется ли это в ваших экспериментах? Если нет, поясните, почему.\n",
    "\n",
    "__Your answer here:__\n",
    "\n",
    "Теоритически разброс должен уменьшаться в 10 раз, но это в идеале в нашем случае разброс уменьшился в 3.8 раза, так как такое уменьшение разброса теоретически связанно с тем что полученные деревья мало коррелируют. В нашем же случае это не так."
   ]
  },
  {
   "cell_type": "markdown",
   "metadata": {},
   "source": [
    "### Визуализация предсказаний базовых алгоритмов бэггинга\n",
    "\n",
    "В материалах лекций можно найти изображение, похожее на мишень - визуализация алгоритмов с разным смещением и разным разбросом. В центре \"мишени\" - правильный ответ, а \"попадания\" - предсказания алгоритмов, обученных по разным выборкам. Построим похожее изображение на наших данных для трех алгоритмов. Наши \"мишени\" будут одномерными, потому что мы решаем задачу одномерной регрессии.\n",
    "\n",
    "__Задание 3. (2 балла)__\n",
    "\n",
    "Реализуйте фукнцию plot_predictions. Она должна выполнять следующие действия:\n",
    "1. Случайно выбрать num_test_objects пар объект-целевая переменная из выборки X, y. Получится две выборки: маленькая X_test, y_test (выбранные тестовые объекты) и X_train, y_train (остальные объекты).\n",
    "1. Сгенерировать num_runs выборок методом бутстарапа из X_train, y_train. На каждой выборке обучить алгоритм regressor и сделать предсказания для X_test.\n",
    "1. Нарисовать scatter-график. По оси абсцисс - объекты тестовой выборки (номера от 0 до num_test_objects-1), по оси ординат - предсказания. В итоге получится num_test_objects столбиков с точками. Для каждого тестового объекта надо отметить одним цветом все предсказания для него, а также черным цветом отметить правильный ответ.\n",
    "1. Подпишите оси и название графика (аргумент title)."
   ]
  },
  {
   "cell_type": "code",
   "execution_count": 71,
   "metadata": {},
   "outputs": [],
   "source": [
    "def plot_predictions(regressor, X, y, num_runs=100, num_test_objects=10, ax=None, title=\"\"):\n",
    "    lenw, lenh = X.shape\n",
    "    test_ind = np.random.choice(lenw, num_test_objects, replace=False)\n",
    "    train_ind = np.setdiff1d(np.arange(lenw), test_ind)\n",
    "    \n",
    "    X_train, X_test = X[train_ind], X[test_ind]\n",
    "    y_train, y_test = y[train_ind], y[test_ind]\n",
    "    \n",
    "    wXtrain, hXtrain = X_train.shape\n",
    "    wXtest, hXtest = X_test.shape\n",
    "    \n",
    "    sampl = np.zeros((num_runs, wXtest))\n",
    "    \n",
    "    for i in range(num_runs):\n",
    "        ind = np.random.randint(0, wXtrain, wXtrain)\n",
    "        regressor.fit(X_train[ind], y_train[ind])\n",
    "        sampl[i] = regressor.predict(X_test)\n",
    "    \n",
    "    ax.set_title(title)\n",
    "    ax.set_xlabel(\"objects\")\n",
    "    ax.set_ylabel(\"prediction\")\n",
    "    ax.set_xticks(np.arange(num_test_objects))\n",
    "    for i in range(X_test.shape[0]):\n",
    "        ax.scatter(np.ones(num_runs)*i, sampl[:, i])\n",
    "        ax.scatter([i], y_test[i], c=\"black\", marker=\"D\")"
   ]
  },
  {
   "cell_type": "markdown",
   "metadata": {},
   "source": [
    "Нарисуйте графики для линейной регрессии, решающего дерева и случайного леса. Нарисуйте три графика в строчку (это можно сделать с помощью plt.subplot) с одинаковой осью ординат (это важно для понимания масштаба разброса у разных алгоритмов):"
   ]
  },
  {
   "cell_type": "code",
   "execution_count": 72,
   "metadata": {},
   "outputs": [
    {
     "name": "stderr",
     "output_type": "stream",
     "text": [
      "C:\\Users\\Lev\\Anaconda3\\lib\\site-packages\\sklearn\\ensemble\\forest.py:245: FutureWarning: The default value of n_estimators will change from 10 in version 0.20 to 100 in 0.22.\n",
      "  \"10 in version 0.20 to 100 in 0.22.\", FutureWarning)\n"
     ]
    },
    {
     "data": {
      "image/png": "[encoded data removed]",
      "text/plain": [
       "<Figure size 1296x360 with 3 Axes>"
      ]
     },
     "metadata": {
      "needs_background": "light"
     },
     "output_type": "display_data"
    }
   ],
   "source": [
    "regressors = {\n",
    "    'LinearRegression': LinearRegression(), \n",
    "    'DecisionTreeRegressor': DecisionTreeRegressor(),\n",
    "    'RandomForestRegressor': RandomForestRegressor()\n",
    "}\n",
    "fig, axes = plt.subplots(1, 3, sharey=True, figsize=(18, 5))\n",
    "\n",
    "for i, reg_name in enumerate(regressors):\n",
    "    plot_predictions(regressors[regressor_name], X, y, num_runs=100, num_test_objects=10, title=regressor_name, ax=axes[i])\n",
    "plt.show()"
   ]
  },
  {
   "cell_type": "markdown",
   "metadata": {},
   "source": [
    "Для каждого графика прокомментируйте, как он характеризует смещение и разброс соответствующего алгоритма.\n",
    "\n",
    "**Your answer here:**"
   ]
  },
  {
   "cell_type": "markdown",
   "metadata": {},
   "source": [
    "### Часть 2. Градиентный бустинг"
   ]
  },
  {
   "cell_type": "markdown",
   "metadata": {},
   "source": [
    "**Задание 4 (1 балл)**\n",
    "\n",
    "Мы будем использовать данные из [соревнования](https://www.kaggle.com/t/b710e05dc0bd424995ca94da5b639869). \n",
    "* Загрузите таблицу application_train.csv;\n",
    "* Запишите в Y столбец с целевой переменной (TARGET);\n",
    "* Удалите ненужные столбцы (для этого воспользуйтесь описанием);\n",
    "* Определите тип столбцов и заполните пропуски - стратегия произвольная;\n",
    "* Разбейте выборку в соотношении 70:30 с random_state=0.\n",
    "\n",
    "Так как в данных имеется значительный дисбаланс классов, в качестве метрики качества везде будем использовать площадь под precision-recall кривой (AUC-PR)."
   ]
  },
  {
   "cell_type": "code",
   "execution_count": 127,
   "metadata": {},
   "outputs": [],
   "source": [
    "from sklearn.model_selection import train_test_split"
   ]
  },
  {
   "cell_type": "code",
   "execution_count": 128,
   "metadata": {},
   "outputs": [],
   "source": [
    "data = pd.read_csv('application_train.csv')\n",
    "y = data[\"TARGET\"]\n",
    "data = data.drop(columns=[\"TARGET\"])\n",
    "\n",
    "#что удалять вообще непонятно, взял только числовые\n",
    "X = data.select_dtypes(['number'])\n",
    "\n",
    "data = X.fillna(X.median())"
   ]
  },
  {
   "cell_type": "code",
   "execution_count": 129,
   "metadata": {},
   "outputs": [],
   "source": [
    "X_train, X_test, y_train, y_test = train_test_split(X, y, test_size=0.3, random_state=0)"
   ]
  },
  {
   "cell_type": "markdown",
   "metadata": {},
   "source": [
    "**Задание 5 (1 балл)**"
   ]
  },
  {
   "cell_type": "markdown",
   "metadata": {},
   "source": [
    "Обучите реализации градиентного бустинга LightGBM и Catboost на вещественных признаках без подбора параметров. **Почему получилась заметная разница в качестве?**\n",
    "\n",
    "В этом и последующих экспериментах необходимо измерять время обучения моделей."
   ]
  },
  {
   "cell_type": "code",
   "execution_count": 130,
   "metadata": {},
   "outputs": [],
   "source": [
    "from lightgbm.sklearn import LGBMClassifier\n",
    "from catboost import CatBoostClassifier\n",
    "import time\n",
    "from sklearn.metrics import average_precision_score"
   ]
  },
  {
   "cell_type": "code",
   "execution_count": 131,
   "metadata": {},
   "outputs": [],
   "source": [
    "def fit_and_clasifier(classifier, classifier_name):\n",
    "    print(\"{}:\".format(classifier_name))\n",
    "    start = time.time()\n",
    "    classifier.fit(X_train, y_train)\n",
    "    y_pred_proba = classifier.predict_proba(X_test)\n",
    "    pr_auc = average_precision_score(y_test, y_pred_proba[:, 1])\n",
    "    print(\"\\tAccuracy: {}\".format(pr_auc))\n",
    "    print(\"\\tTime: {}\".format(time.time() - start))\n",
    "    return pr_auc"
   ]
  },
  {
   "cell_type": "code",
   "execution_count": 132,
   "metadata": {},
   "outputs": [
    {
     "name": "stdout",
     "output_type": "stream",
     "text": [
      "LightGBM:\n",
      "\tAccuracy: 0.23873352261026387\n",
      "\tTime: 8.077202796936035\n",
      "Catboost:\n",
      "\tAccuracy: 0.24219684017638732\n",
      "\tTime: 141.9190948009491\n"
     ]
    }
   ],
   "source": [
    "classifiers = {\n",
    "    'LightGBM': LGBMClassifier(), \n",
    "    'Catboost': CatBoostClassifier(silent=True)\n",
    "}\n",
    "\n",
    "for classifier_name in classifiers:\n",
    "    fit_and_clasifier(classifiers[classifier_name], classifier_name)"
   ]
  },
  {
   "cell_type": "markdown",
   "metadata": {},
   "source": [
    "**Your answer here:**\n",
    "Единственная заметная разница получилась по скорости работы этих двух алгоритмов. Все таки 8.5 против 109. Качество же сильно не изменилось, хоть и вырасло при использованиии Catboost."
   ]
  },
  {
   "cell_type": "markdown",
   "metadata": {},
   "source": [
    "__Задание 6. (2 балла)__\n",
    "\n",
    "Подберите оптимальные с точки зрения метрики качества параметры алгоритмов, изменяя:\n",
    "\n",
    "* глубину деревьев;\n",
    "* количество деревьев;\n",
    "* темп обучения;\n",
    "* оптимизируемый функционал.\n",
    "\n",
    "Масштаб значений предлагается посмотреть в [семинаре](https://github.com/esokolov/ml-course-hse/blob/master/2019-fall/seminars/sem10-gbm.ipynb) про библиотеки.\n",
    "\n",
    "**Проанализируйте соотношения глубины и количества деревьев в зависимости от алгоритма.** \n",
    "\n",
    "**Если на перебор гиперпараметров уходит много времени, то переберите значениях каких-нибудь 1-2 гиперпараметров, а не всех предложенных 4**"
   ]
  },
  {
   "cell_type": "code",
   "execution_count": 139,
   "metadata": {},
   "outputs": [],
   "source": [
    "classifiers = {\n",
    "    'LightGBM': LGBMClassifier(), \n",
    "    'Catboost': CatBoostClassifier(silent=True)\n",
    "}\n",
    "count_trees = [1, 10, 50, 100, 200, 300, 400, 500]\n",
    "depth = [1, 2, 3, 4, 5, 7, 9, 11]"
   ]
  },
  {
   "cell_type": "code",
   "execution_count": 140,
   "metadata": {},
   "outputs": [],
   "source": [
    "def classifier_with_param(name_classifier, count_trees, depth):\n",
    "    lenCountTrees = len(count_trees)\n",
    "    lenDepth = len(depth)\n",
    "    grid_acc = np.zeros((lenCountTrees, lenDepth))\n",
    "    grid_time = np.zeros((lenCountTrees, lenDepth))\n",
    "    for i in range(lenCountTrees):\n",
    "        for j in range(lenDepth):\n",
    "            clf = None\n",
    "            if name_classifier == \"LightGBM\":\n",
    "                clf = LGBMClassifier(n_estimators=count_trees[i], max_depth=depth[j])\n",
    "            elif name_classifier == \"Catboost\":\n",
    "                clf = CatBoostClassifier(iterations=count_trees[i], max_depth=depth[j], silent=True)\n",
    "            print(\"\\r Trees: {}/{}, Depth: {}/{}\".format(i, lenCountTrees, \n",
    "                                                         j, lenDepth))\n",
    "            start = time.time()\n",
    "            clf.fit(X_train, y_train)\n",
    "            grid_time[i,j] = time.time() - start\n",
    "            y_pred = clf.predict_proba(X_test)\n",
    "            auc = average_precision_score(y_test, y_pred[:, 1])\n",
    "            grid_acc[i,j] = auc\n",
    "        print(grid_time[i])\n",
    "        print(grid_acc[i])\n",
    "    return grid_acc, grid_time"
   ]
  },
  {
   "cell_type": "code",
   "execution_count": 141,
   "metadata": {},
   "outputs": [
    {
     "name": "stdout",
     "output_type": "stream",
     "text": [
      "LightGBM\n",
      " Trees: 0/8, Depth: 0/8\n",
      " Trees: 0/8, Depth: 1/8\n",
      " Trees: 0/8, Depth: 2/8\n",
      " Trees: 0/8, Depth: 3/8\n",
      " Trees: 0/8, Depth: 4/8\n",
      " Trees: 0/8, Depth: 5/8\n",
      " Trees: 0/8, Depth: 6/8\n",
      " Trees: 0/8, Depth: 7/8\n",
      "[1.78096962 1.74838686 1.88547492 1.6447196  1.75348258 1.71203613\n",
      " 1.68284893 1.99799705]\n",
      "[0.10838942 0.13922578 0.16347007 0.17259011 0.18159559 0.18700711\n",
      " 0.18700711 0.18700711]\n",
      " Trees: 1/8, Depth: 0/8\n",
      " Trees: 1/8, Depth: 1/8\n",
      " Trees: 1/8, Depth: 2/8\n",
      " Trees: 1/8, Depth: 3/8\n",
      " Trees: 1/8, Depth: 4/8\n",
      " Trees: 1/8, Depth: 5/8\n",
      " Trees: 1/8, Depth: 6/8\n",
      " Trees: 1/8, Depth: 7/8\n",
      "[1.99982953 1.97685885 1.98590732 2.5280962  2.54833198 2.69361973\n",
      " 2.82056499 3.16105199]\n",
      "[0.17416461 0.18800392 0.20083516 0.20392995 0.21348236 0.21861285\n",
      " 0.21933197 0.21941586]\n",
      " Trees: 2/8, Depth: 0/8\n",
      " Trees: 2/8, Depth: 1/8\n",
      " Trees: 2/8, Depth: 2/8\n",
      " Trees: 2/8, Depth: 3/8\n",
      " Trees: 2/8, Depth: 4/8\n",
      " Trees: 2/8, Depth: 5/8\n",
      " Trees: 2/8, Depth: 6/8\n",
      " Trees: 2/8, Depth: 7/8\n",
      "[2.91610456 3.32057548 3.78411818 4.45103097 5.25301886 6.27001119\n",
      " 7.3393023  7.84468913]\n",
      "[0.20667706 0.22096926 0.22933628 0.23177128 0.23698133 0.23803253\n",
      " 0.2380476  0.23995469]\n",
      " Trees: 3/8, Depth: 0/8\n",
      " Trees: 3/8, Depth: 1/8\n",
      " Trees: 3/8, Depth: 2/8\n",
      " Trees: 3/8, Depth: 3/8\n",
      " Trees: 3/8, Depth: 4/8\n",
      " Trees: 3/8, Depth: 5/8\n",
      " Trees: 3/8, Depth: 6/8\n",
      " Trees: 3/8, Depth: 7/8\n",
      "[4.56684709 5.26913023 6.01004004 8.52277017 9.69103289 9.23078728\n",
      " 9.59664536 9.79836392]\n",
      "[0.21846346 0.23094042 0.23742229 0.23772515 0.24171019 0.23995331\n",
      " 0.23870359 0.24186293]\n",
      " Trees: 4/8, Depth: 0/8\n",
      " Trees: 4/8, Depth: 1/8\n",
      " Trees: 4/8, Depth: 2/8\n",
      " Trees: 4/8, Depth: 3/8\n",
      " Trees: 4/8, Depth: 4/8\n",
      " Trees: 4/8, Depth: 5/8\n",
      " Trees: 4/8, Depth: 6/8\n",
      " Trees: 4/8, Depth: 7/8\n",
      "[ 7.23600459  8.7160027   9.75796437 11.85444093 14.16221404 16.66485953\n",
      " 15.64382792 15.93483973]\n",
      "[0.22803829 0.23870557 0.2416319  0.23983783 0.24121619 0.23692845\n",
      " 0.23711184 0.2391804 ]\n",
      " Trees: 5/8, Depth: 0/8\n",
      " Trees: 5/8, Depth: 1/8\n",
      " Trees: 5/8, Depth: 2/8\n",
      " Trees: 5/8, Depth: 3/8\n",
      " Trees: 5/8, Depth: 4/8\n",
      " Trees: 5/8, Depth: 5/8\n",
      " Trees: 5/8, Depth: 6/8\n",
      " Trees: 5/8, Depth: 7/8\n",
      "[ 9.1684103  11.15383339 14.47953987 16.20417023 18.75892568 20.43848515\n",
      " 20.20180559 20.887887  ]\n",
      "[0.23292287 0.24096534 0.24266976 0.23888374 0.23962393 0.23519314\n",
      " 0.23564615 0.23809162]\n",
      " Trees: 6/8, Depth: 0/8\n",
      " Trees: 6/8, Depth: 1/8\n",
      " Trees: 6/8, Depth: 2/8\n",
      " Trees: 6/8, Depth: 3/8\n",
      " Trees: 6/8, Depth: 4/8\n",
      " Trees: 6/8, Depth: 5/8\n",
      " Trees: 6/8, Depth: 6/8\n",
      " Trees: 6/8, Depth: 7/8\n",
      "[11.58230305 14.19601178 16.21785617 19.42668271 25.70969296 26.81364536\n",
      " 26.88387609 25.79947662]\n",
      "[0.23563602 0.24203756 0.2424945  0.23820532 0.23653801 0.23316102\n",
      " 0.23245859 0.23521725]\n",
      " Trees: 7/8, Depth: 0/8\n",
      " Trees: 7/8, Depth: 1/8\n",
      " Trees: 7/8, Depth: 2/8\n",
      " Trees: 7/8, Depth: 3/8\n",
      " Trees: 7/8, Depth: 4/8\n",
      " Trees: 7/8, Depth: 5/8\n",
      " Trees: 7/8, Depth: 6/8\n",
      " Trees: 7/8, Depth: 7/8\n",
      "[13.74976182 17.37823462 20.5631144  23.54481411 30.09163165 31.48563051\n",
      " 31.0697124  30.88970685]\n",
      "[0.23716678 0.24245352 0.24160981 0.23747484 0.23530599 0.23181937\n",
      " 0.23056859 0.23379823]\n"
     ]
    }
   ],
   "source": [
    "print(\"LightGBM\")\n",
    "gbm_acc, gbm_time = classifier_with_param(\"LightGBM\", count_trees, depth)"
   ]
  },
  {
   "cell_type": "code",
   "execution_count": 143,
   "metadata": {},
   "outputs": [
    {
     "name": "stdout",
     "output_type": "stream",
     "text": [
      "Catboost\n",
      " Trees: 0/8, Depth: 0/8\n",
      " Trees: 0/8, Depth: 1/8\n",
      " Trees: 0/8, Depth: 2/8\n",
      " Trees: 0/8, Depth: 3/8\n",
      " Trees: 0/8, Depth: 4/8\n",
      " Trees: 0/8, Depth: 5/8\n",
      " Trees: 0/8, Depth: 6/8\n",
      " Trees: 0/8, Depth: 7/8\n",
      "[1.07723451 0.7580204  0.8124218  0.88295078 0.86548781 0.88601136\n",
      " 1.1282568  1.56963587]\n",
      "[0.07971035 0.10664283 0.11410997 0.12078113 0.12121348 0.13502351\n",
      " 0.13508634 0.13781642]\n",
      " Trees: 1/8, Depth: 0/8\n",
      " Trees: 1/8, Depth: 1/8\n",
      " Trees: 1/8, Depth: 2/8\n",
      " Trees: 1/8, Depth: 3/8\n",
      " Trees: 1/8, Depth: 4/8\n",
      " Trees: 1/8, Depth: 5/8\n",
      " Trees: 1/8, Depth: 6/8\n",
      " Trees: 1/8, Depth: 7/8\n",
      "[1.17512298 1.26994133 1.5974431  1.47954416 1.61607766 2.02459407\n",
      " 2.94322491 9.2163403 ]\n",
      "[0.1725594  0.1961263  0.21321224 0.21833584 0.21871279 0.22605114\n",
      " 0.21986386 0.21716062]\n",
      " Trees: 2/8, Depth: 0/8\n",
      " Trees: 2/8, Depth: 1/8\n",
      " Trees: 2/8, Depth: 2/8\n",
      " Trees: 2/8, Depth: 3/8\n",
      " Trees: 2/8, Depth: 4/8\n",
      " Trees: 2/8, Depth: 5/8\n",
      " Trees: 2/8, Depth: 6/8\n",
      " Trees: 2/8, Depth: 7/8\n",
      "[ 3.24252844  3.63530469  4.10989237  4.66001678  5.26069379  7.00662827\n",
      " 12.05754828 47.35503864]\n",
      "[0.21815425 0.2340551  0.24015438 0.23523173 0.23089584 0.22438774\n",
      " 0.20863657 0.1889005 ]\n",
      " Trees: 3/8, Depth: 0/8\n",
      " Trees: 3/8, Depth: 1/8\n",
      " Trees: 3/8, Depth: 2/8\n",
      " Trees: 3/8, Depth: 3/8\n",
      " Trees: 3/8, Depth: 4/8\n",
      " Trees: 3/8, Depth: 5/8\n",
      " Trees: 3/8, Depth: 6/8\n",
      " Trees: 3/8, Depth: 7/8\n",
      "[  6.65911388   7.42138386   8.5051589    9.7155087   10.93952227\n",
      "  14.62119961  26.26949883 100.58753467]\n",
      "[0.22872609 0.23676629 0.23820963 0.2313623  0.22475954 0.21555786\n",
      " 0.19476816 0.17392713]\n",
      " Trees: 4/8, Depth: 0/8\n",
      " Trees: 4/8, Depth: 1/8\n",
      " Trees: 4/8, Depth: 2/8\n",
      " Trees: 4/8, Depth: 3/8\n",
      " Trees: 4/8, Depth: 4/8\n",
      " Trees: 4/8, Depth: 5/8\n",
      " Trees: 4/8, Depth: 6/8\n",
      " Trees: 4/8, Depth: 7/8\n",
      "[ 13.23455358  15.5260601   17.612046    19.91393876  22.66580224\n",
      "  30.87222314  51.91458106 218.47022128]\n",
      "[0.23074712 0.24042118 0.24227383 0.23909331 0.23471985 0.22200516\n",
      " 0.20890538 0.18279185]\n",
      " Trees: 5/8, Depth: 0/8\n",
      " Trees: 5/8, Depth: 1/8\n",
      " Trees: 5/8, Depth: 2/8\n",
      " Trees: 5/8, Depth: 3/8\n",
      " Trees: 5/8, Depth: 4/8\n",
      " Trees: 5/8, Depth: 5/8\n",
      " Trees: 5/8, Depth: 6/8\n",
      " Trees: 5/8, Depth: 7/8\n",
      "[ 20.86183739  23.98181057  26.78486085  35.80067873  35.98847437\n",
      "  46.83626199  81.92933488 318.96551251]\n",
      "[0.23183071 0.24156331 0.24365378 0.24027991 0.23929318 0.23242649\n",
      " 0.21357246 0.19756308]\n",
      " Trees: 6/8, Depth: 0/8\n",
      " Trees: 6/8, Depth: 1/8\n",
      " Trees: 6/8, Depth: 2/8\n",
      " Trees: 6/8, Depth: 3/8\n",
      " Trees: 6/8, Depth: 4/8\n",
      " Trees: 6/8, Depth: 5/8\n",
      " Trees: 6/8, Depth: 6/8\n",
      " Trees: 6/8, Depth: 7/8\n",
      "[ 27.159899    31.80056715  36.45102119  51.03449893  55.42779899\n",
      "  64.07028294 115.50376439 411.80641556]\n",
      "[0.23206896 0.24228173 0.24378393 0.24241717 0.24070982 0.23493545\n",
      " 0.2188903  0.20489032]\n",
      " Trees: 7/8, Depth: 0/8\n",
      " Trees: 7/8, Depth: 1/8\n",
      " Trees: 7/8, Depth: 2/8\n",
      " Trees: 7/8, Depth: 3/8\n",
      " Trees: 7/8, Depth: 4/8\n",
      " Trees: 7/8, Depth: 5/8\n",
      " Trees: 7/8, Depth: 6/8\n",
      " Trees: 7/8, Depth: 7/8\n",
      "[ 32.61356115  37.86158204  43.59889746  51.52925396  55.17562914\n",
      "  74.8989656  131.26831484 526.36008263]\n",
      "[0.23186369 0.24233483 0.24306422 0.24238403 0.23919402 0.23265555\n",
      " 0.21985171 0.20490021]\n"
     ]
    }
   ],
   "source": [
    "print(\"Catboost\")\n",
    "cat_acc, cat_time = classifier_with_param(\"Catboost\", count_trees, depth)"
   ]
  },
  {
   "cell_type": "code",
   "execution_count": 144,
   "metadata": {},
   "outputs": [],
   "source": [
    "def get_cmap(n, name='hsv'):\n",
    "    return plt.cm.get_cmap(name, n)"
   ]
  },
  {
   "cell_type": "code",
   "execution_count": 145,
   "metadata": {},
   "outputs": [
    {
     "name": "stdout",
     "output_type": "stream",
     "text": [
      "[[0.07971035 0.10664283 0.11410997 0.12078113 0.12121348 0.13502351\n",
      "  0.13508634 0.13781642]\n",
      " [0.1725594  0.1961263  0.21321224 0.21833584 0.21871279 0.22605114\n",
      "  0.21986386 0.21716062]\n",
      " [0.21815425 0.2340551  0.24015438 0.23523173 0.23089584 0.22438774\n",
      "  0.20863657 0.1889005 ]\n",
      " [0.22872609 0.23676629 0.23820963 0.2313623  0.22475954 0.21555786\n",
      "  0.19476816 0.17392713]\n",
      " [0.23074712 0.24042118 0.24227383 0.23909331 0.23471985 0.22200516\n",
      "  0.20890538 0.18279185]\n",
      " [0.23183071 0.24156331 0.24365378 0.24027991 0.23929318 0.23242649\n",
      "  0.21357246 0.19756308]\n",
      " [0.23206896 0.24228173 0.24378393 0.24241717 0.24070982 0.23493545\n",
      "  0.2188903  0.20489032]\n",
      " [0.23186369 0.24233483 0.24306422 0.24238403 0.23919402 0.23265555\n",
      "  0.21985171 0.20490021]]\n",
      "[[0.10838942 0.13922578 0.16347007 0.17259011 0.18159559 0.18700711\n",
      "  0.18700711 0.18700711]\n",
      " [0.17416461 0.18800392 0.20083516 0.20392995 0.21348236 0.21861285\n",
      "  0.21933197 0.21941586]\n",
      " [0.20667706 0.22096926 0.22933628 0.23177128 0.23698133 0.23803253\n",
      "  0.2380476  0.23995469]\n",
      " [0.21846346 0.23094042 0.23742229 0.23772515 0.24171019 0.23995331\n",
      "  0.23870359 0.24186293]\n",
      " [0.22803829 0.23870557 0.2416319  0.23983783 0.24121619 0.23692845\n",
      "  0.23711184 0.2391804 ]\n",
      " [0.23292287 0.24096534 0.24266976 0.23888374 0.23962393 0.23519314\n",
      "  0.23564615 0.23809162]\n",
      " [0.23563602 0.24203756 0.2424945  0.23820532 0.23653801 0.23316102\n",
      "  0.23245859 0.23521725]\n",
      " [0.23716678 0.24245352 0.24160981 0.23747484 0.23530599 0.23181937\n",
      "  0.23056859 0.23379823]]\n"
     ]
    }
   ],
   "source": [
    "print(cat_acc)\n",
    "print(gbm_acc)"
   ]
  },
  {
   "cell_type": "code",
   "execution_count": 146,
   "metadata": {},
   "outputs": [
    {
     "data": {
      "text/plain": [
       "<matplotlib.legend.Legend at 0x14402d97ac8>"
      ]
     },
     "execution_count": 146,
     "metadata": {},
     "output_type": "execute_result"
    },
    {
     "data": {
      "image/png": "[encoded data removed]",
      "text/plain": [
       "<Figure size 1080x360 with 2 Axes>"
      ]
     },
     "metadata": {
      "needs_background": "light"
     },
     "output_type": "display_data"
    }
   ],
   "source": [
    "fig, ax = plt.subplots(1, 2, sharey=True, figsize=(15, 5))\n",
    "num_val = cat_time.shape[0]\n",
    "cmap = get_cmap(num_val)\n",
    "\n",
    "ax[0].set_title(\"Catboost time\")\n",
    "ax[0].set_xlabel(\"Count trees\")\n",
    "ax[0].set_ylabel(\"Time\")\n",
    "ax[0].set_xscale('log', basex = 10)\n",
    "for i in range(cat_time.shape[0]):\n",
    "    ax[0].plot(count_trees, cat_time[i],  color=cmap(i), label=\"depth {}\".format(depth[i]))\n",
    "ax[0].legend()\n",
    "    \n",
    "ax[1].set_title(\"LightGBM time\")\n",
    "ax[1].set_xlabel(\"Count trees\")\n",
    "ax[1].set_ylabel(\"Time\")\n",
    "ax[1].set_xscale('log', basex = 10)\n",
    "for i in range(gbm_time.shape[0]):\n",
    "    ax[1].plot(count_trees, gbm_time[i],  color=cmap(i), label=\"depth {}\".format(depth[i]))\n",
    "ax[1].legend()"
   ]
  },
  {
   "cell_type": "code",
   "execution_count": 148,
   "metadata": {},
   "outputs": [
    {
     "data": {
      "text/plain": [
       "<matplotlib.legend.Legend at 0x1440e8cb188>"
      ]
     },
     "execution_count": 148,
     "metadata": {},
     "output_type": "execute_result"
    },
    {
     "data": {
      "image/png": "[encoded data removed]",
      "text/plain": [
       "<Figure size 1080x360 with 2 Axes>"
      ]
     },
     "metadata": {
      "needs_background": "light"
     },
     "output_type": "display_data"
    }
   ],
   "source": [
    "fig, ax = plt.subplots(1, 2, sharey=True, figsize=(15, 5))\n",
    "num_val = cat_time.shape[0]\n",
    "cmap = get_cmap(num_val)\n",
    "\n",
    "cat_min_val = np.min(cat_acc)\n",
    "cat_max_val = np.max(cat_acc)\n",
    "\n",
    "ax[0].set_title(\"Catboost accuracy\")\n",
    "ax[0].set_xlabel(\"Count trees\")\n",
    "ax[0].set_ylabel(\"Accuracy\")\n",
    "ax[0].set_xscale('log', basex = 10)\n",
    "ax[0].set_xticks(count_trees)\n",
    "for i in range(cat_acc.shape[0]):\n",
    "    ax[0].plot(count_trees, cat_acc[i],  color=cmap(i), label=\"depth {}\".format(depth[i]))\n",
    "ax[0].legend()\n",
    "    \n",
    "gbm_min_val = np.min(gbm_acc)\n",
    "gbm_max_val = np.max(gbm_acc)\n",
    "    \n",
    "ax[1].set_title(\"LightGBM accuracy\")\n",
    "ax[1].set_xlabel(\"Count trees\")\n",
    "ax[1].set_ylabel(\"Accuracy\")\n",
    "ax[1].set_xscale('log', basex = 10)\n",
    "ax[1].set_xticks(count_trees)\n",
    "for i in range(gbm_acc.shape[0]):\n",
    "    ax[1].plot(count_trees, gbm_acc[i],  color=cmap(i), label=\"depth {}\".format(depth[i]))\n",
    "ax[1].legend()"
   ]
  },
  {
   "cell_type": "markdown",
   "metadata": {},
   "source": [
    "**Your answer here:**\n",
    "- Исходя из эксперимента видно что алгоритмы дают примерно сопоставимую точность\n",
    "- Увеличение числа деревьев не дает прирость точности после где то 150, а даже уменьшает ее\n",
    "- Глубина дает относительно сопоставимое качество 5-6, но увеличивает время работы особенно это заметно на Catboost\n",
    "- Также увеличение времени работы дает использование большого числа деревьев на графике Catboost рост очень похож на экспоненту"
   ]
  },
  {
   "cell_type": "code",
   "execution_count": null,
   "metadata": {},
   "outputs": [],
   "source": []
  }
 ],
 "metadata": {
  "kernelspec": {
   "display_name": "Python 3",
   "language": "python",
   "name": "python3"
  },
  "language_info": {
   "codemirror_mode": {
    "name": "ipython",
    "version": 3
   },
   "file_extension": ".py",
   "mimetype": "text/x-python",
   "name": "python",
   "nbconvert_exporter": "python",
   "pygments_lexer": "ipython3",
   "version": "3.7.4"
  }
 },
 "nbformat": 4,
 "nbformat_minor": 4
}
