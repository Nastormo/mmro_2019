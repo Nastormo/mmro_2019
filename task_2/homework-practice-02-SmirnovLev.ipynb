{
 "cells": [
  {
   "cell_type": "markdown",
   "metadata": {},
   "source": [
    "## Машинное обучение, ВМК МГУ\n",
    "\n",
    "## Практическое задание 2\n",
    "\n",
    "### Общая информация\n",
    "Дата выдачи: 9 октября 2019\n",
    "\n",
    "Максимальная оценка: 10 баллов + 1 бонусный балл\n",
    "\n",
    "Мягкий дедлайн: 23:59MSK 23 октября (за каждый день просрочки снимается 1 балл)\n",
    "\n",
    "Жесткий дедлайн: 23:59MSK 30 октября."
   ]
  },
  {
   "cell_type": "markdown",
   "metadata": {},
   "source": [
    "### О задании\n",
    "\n",
    "В этом задании вы:\n",
    "- Познакомитесь с методом решения задачи регрессии на основе метода ближайших соседей.\n",
    "- Реализуете алгоритм kNN для задачи регрессии.\n",
    "- Изучите методы работы с категориальными и текстовыми переменными.\n",
    "\n",
    "\n",
    "### Оценивание и штрафы\n",
    "Каждая из задач имеет определенную «стоимость» (указана в скобках около задачи). Максимально допустимая оценка за работу — 10 баллов.\n",
    "\n",
    "Сдавать задание после указанного срока сдачи нельзя. При выставлении неполного балла за задание в связи с наличием ошибок на усмотрение проверяющего предусмотрена возможность исправить работу на указанных в ответном письме условиях.\n",
    "\n",
    "Задание выполняется самостоятельно. «Похожие» решения считаются плагиатом и все задействованные студенты (в том числе те, у кого списали) не могут получить за него больше 0 баллов (подробнее о плагиате см. на странице курса). Если вы нашли решение какого-то из заданий (или его часть) в открытом источнике, необходимо указать ссылку на этот источник в отдельном блоке в конце вашей работы (скорее всего вы будете не единственным, кто это нашел, поэтому чтобы исключить подозрение в плагиате, необходима ссылка на источник).\n",
    "\n",
    "Неэффективная реализация кода может негативно отразиться на оценке.\n",
    "\n",
    "\n",
    "### Формат сдачи\n",
    "Для сдачи задания переименуйте получившийся файл *.ipynb в соответствии со следующим форматом: homework-practice-02-Username.ipynb, где Username — ваша фамилия и имя на латинице именно в таком порядке (например, homework-practice-02-ivanov.ipynb).\n",
    "\n",
    "Далее отправьте этот файл на anytask в соответсвующий раздел."
   ]
  },
  {
   "cell_type": "code",
   "execution_count": 1,
   "metadata": {},
   "outputs": [],
   "source": [
    "import numpy as np\n",
    "import pandas as pd"
   ]
  },
  {
   "cell_type": "markdown",
   "metadata": {},
   "source": [
    "Все эксперименты в этой лабораторной работе предлагается проводить на данных соревнования New York City Airbnb Open Data: https://www.kaggle.com/dgomonov/new-york-city-airbnb-open-data#AB_NYC_2019.csv\n",
    "\n",
    "В данной задаче предлагается предсказать цену на съем квартиры в зависимости от её параметров."
   ]
  },
  {
   "cell_type": "code",
   "execution_count": 2,
   "metadata": {},
   "outputs": [
    {
     "data": {
      "text/html": [
       "<div>\n",
       "<style scoped>\n",
       "    .dataframe tbody tr th:only-of-type {\n",
       "        vertical-align: middle;\n",
       "    }\n",
       "\n",
       "    .dataframe tbody tr th {\n",
       "        vertical-align: top;\n",
       "    }\n",
       "\n",
       "    .dataframe thead th {\n",
       "        text-align: right;\n",
       "    }\n",
       "</style>\n",
       "<table border=\"1\" class=\"dataframe\">\n",
       "  <thead>\n",
       "    <tr style=\"text-align: right;\">\n",
       "      <th></th>\n",
       "      <th>id</th>\n",
       "      <th>name</th>\n",
       "      <th>host_id</th>\n",
       "      <th>host_name</th>\n",
       "      <th>neighbourhood_group</th>\n",
       "      <th>neighbourhood</th>\n",
       "      <th>latitude</th>\n",
       "      <th>longitude</th>\n",
       "      <th>room_type</th>\n",
       "      <th>price</th>\n",
       "      <th>minimum_nights</th>\n",
       "      <th>number_of_reviews</th>\n",
       "      <th>last_review</th>\n",
       "      <th>reviews_per_month</th>\n",
       "      <th>calculated_host_listings_count</th>\n",
       "      <th>availability_365</th>\n",
       "    </tr>\n",
       "  </thead>\n",
       "  <tbody>\n",
       "    <tr>\n",
       "      <td>0</td>\n",
       "      <td>2539</td>\n",
       "      <td>Clean &amp; quiet apt home by the park</td>\n",
       "      <td>2787</td>\n",
       "      <td>John</td>\n",
       "      <td>Brooklyn</td>\n",
       "      <td>Kensington</td>\n",
       "      <td>40.64749</td>\n",
       "      <td>-73.97237</td>\n",
       "      <td>Private room</td>\n",
       "      <td>149</td>\n",
       "      <td>1</td>\n",
       "      <td>9</td>\n",
       "      <td>2018-10-19</td>\n",
       "      <td>0.21</td>\n",
       "      <td>6</td>\n",
       "      <td>365</td>\n",
       "    </tr>\n",
       "    <tr>\n",
       "      <td>1</td>\n",
       "      <td>2595</td>\n",
       "      <td>Skylit Midtown Castle</td>\n",
       "      <td>2845</td>\n",
       "      <td>Jennifer</td>\n",
       "      <td>Manhattan</td>\n",
       "      <td>Midtown</td>\n",
       "      <td>40.75362</td>\n",
       "      <td>-73.98377</td>\n",
       "      <td>Entire home/apt</td>\n",
       "      <td>225</td>\n",
       "      <td>1</td>\n",
       "      <td>45</td>\n",
       "      <td>2019-05-21</td>\n",
       "      <td>0.38</td>\n",
       "      <td>2</td>\n",
       "      <td>355</td>\n",
       "    </tr>\n",
       "    <tr>\n",
       "      <td>2</td>\n",
       "      <td>3647</td>\n",
       "      <td>THE VILLAGE OF HARLEM....NEW YORK !</td>\n",
       "      <td>4632</td>\n",
       "      <td>Elisabeth</td>\n",
       "      <td>Manhattan</td>\n",
       "      <td>Harlem</td>\n",
       "      <td>40.80902</td>\n",
       "      <td>-73.94190</td>\n",
       "      <td>Private room</td>\n",
       "      <td>150</td>\n",
       "      <td>3</td>\n",
       "      <td>0</td>\n",
       "      <td>NaN</td>\n",
       "      <td>NaN</td>\n",
       "      <td>1</td>\n",
       "      <td>365</td>\n",
       "    </tr>\n",
       "    <tr>\n",
       "      <td>3</td>\n",
       "      <td>3831</td>\n",
       "      <td>Cozy Entire Floor of Brownstone</td>\n",
       "      <td>4869</td>\n",
       "      <td>LisaRoxanne</td>\n",
       "      <td>Brooklyn</td>\n",
       "      <td>Clinton Hill</td>\n",
       "      <td>40.68514</td>\n",
       "      <td>-73.95976</td>\n",
       "      <td>Entire home/apt</td>\n",
       "      <td>89</td>\n",
       "      <td>1</td>\n",
       "      <td>270</td>\n",
       "      <td>2019-07-05</td>\n",
       "      <td>4.64</td>\n",
       "      <td>1</td>\n",
       "      <td>194</td>\n",
       "    </tr>\n",
       "    <tr>\n",
       "      <td>4</td>\n",
       "      <td>5022</td>\n",
       "      <td>Entire Apt: Spacious Studio/Loft by central park</td>\n",
       "      <td>7192</td>\n",
       "      <td>Laura</td>\n",
       "      <td>Manhattan</td>\n",
       "      <td>East Harlem</td>\n",
       "      <td>40.79851</td>\n",
       "      <td>-73.94399</td>\n",
       "      <td>Entire home/apt</td>\n",
       "      <td>80</td>\n",
       "      <td>10</td>\n",
       "      <td>9</td>\n",
       "      <td>2018-11-19</td>\n",
       "      <td>0.10</td>\n",
       "      <td>1</td>\n",
       "      <td>0</td>\n",
       "    </tr>\n",
       "  </tbody>\n",
       "</table>\n",
       "</div>"
      ],
      "text/plain": [
       "     id                                              name  host_id  \\\n",
       "0  2539                Clean & quiet apt home by the park     2787   \n",
       "1  2595                             Skylit Midtown Castle     2845   \n",
       "2  3647               THE VILLAGE OF HARLEM....NEW YORK !     4632   \n",
       "3  3831                   Cozy Entire Floor of Brownstone     4869   \n",
       "4  5022  Entire Apt: Spacious Studio/Loft by central park     7192   \n",
       "\n",
       "     host_name neighbourhood_group neighbourhood  latitude  longitude  \\\n",
       "0         John            Brooklyn    Kensington  40.64749  -73.97237   \n",
       "1     Jennifer           Manhattan       Midtown  40.75362  -73.98377   \n",
       "2    Elisabeth           Manhattan        Harlem  40.80902  -73.94190   \n",
       "3  LisaRoxanne            Brooklyn  Clinton Hill  40.68514  -73.95976   \n",
       "4        Laura           Manhattan   East Harlem  40.79851  -73.94399   \n",
       "\n",
       "         room_type  price  minimum_nights  number_of_reviews last_review  \\\n",
       "0     Private room    149               1                  9  2018-10-19   \n",
       "1  Entire home/apt    225               1                 45  2019-05-21   \n",
       "2     Private room    150               3                  0         NaN   \n",
       "3  Entire home/apt     89               1                270  2019-07-05   \n",
       "4  Entire home/apt     80              10                  9  2018-11-19   \n",
       "\n",
       "   reviews_per_month  calculated_host_listings_count  availability_365  \n",
       "0               0.21                               6               365  \n",
       "1               0.38                               2               355  \n",
       "2                NaN                               1               365  \n",
       "3               4.64                               1               194  \n",
       "4               0.10                               1                 0  "
      ]
     },
     "execution_count": 2,
     "metadata": {},
     "output_type": "execute_result"
    }
   ],
   "source": [
    "data = pd.read_csv('AB_NYC_2019.csv')\n",
    "data.head(5)"
   ]
  },
  {
   "cell_type": "code",
   "execution_count": 3,
   "metadata": {},
   "outputs": [
    {
     "data": {
      "text/plain": [
       "(48895, 16)"
      ]
     },
     "execution_count": 3,
     "metadata": {},
     "output_type": "execute_result"
    }
   ],
   "source": [
    "data.shape"
   ]
  },
  {
   "cell_type": "code",
   "execution_count": 4,
   "metadata": {},
   "outputs": [
    {
     "name": "stdout",
     "output_type": "stream",
     "text": [
      "id 48895\n",
      "name 47906\n",
      "host_id 37457\n",
      "host_name 11453\n",
      "neighbourhood_group 5\n",
      "neighbourhood 221\n",
      "latitude 19048\n",
      "longitude 14718\n",
      "room_type 3\n",
      "price 674\n",
      "minimum_nights 109\n",
      "number_of_reviews 394\n",
      "last_review 1765\n",
      "reviews_per_month 938\n",
      "calculated_host_listings_count 47\n",
      "availability_365 366\n"
     ]
    }
   ],
   "source": [
    "# число значений у признаков\n",
    "for col_name in data.columns:\n",
    "    print(col_name, len(data[col_name].unique()))"
   ]
  },
  {
   "cell_type": "code",
   "execution_count": 5,
   "metadata": {},
   "outputs": [
    {
     "data": {
      "text/plain": [
       "id                                    0\n",
       "name                                 16\n",
       "host_id                               0\n",
       "host_name                            21\n",
       "neighbourhood_group                   0\n",
       "neighbourhood                         0\n",
       "latitude                              0\n",
       "longitude                             0\n",
       "room_type                             0\n",
       "price                                 0\n",
       "minimum_nights                        0\n",
       "number_of_reviews                     0\n",
       "last_review                       10052\n",
       "reviews_per_month                 10052\n",
       "calculated_host_listings_count        0\n",
       "availability_365                      0\n",
       "dtype: int64"
      ]
     },
     "execution_count": 5,
     "metadata": {},
     "output_type": "execute_result"
    }
   ],
   "source": [
    "data.isna().sum()"
   ]
  },
  {
   "cell_type": "markdown",
   "metadata": {},
   "source": [
    "Как видите, в данных есть пропуски. Не забудьте обработать их"
   ]
  },
  {
   "cell_type": "code",
   "execution_count": 6,
   "metadata": {},
   "outputs": [
    {
     "data": {
      "text/plain": [
       "id                                0\n",
       "name                              0\n",
       "host_id                           0\n",
       "host_name                         0\n",
       "neighbourhood_group               0\n",
       "neighbourhood                     0\n",
       "latitude                          0\n",
       "longitude                         0\n",
       "room_type                         0\n",
       "price                             0\n",
       "minimum_nights                    0\n",
       "number_of_reviews                 0\n",
       "last_review                       0\n",
       "reviews_per_month                 0\n",
       "calculated_host_listings_count    0\n",
       "availability_365                  0\n",
       "dtype: int64"
      ]
     },
     "execution_count": 6,
     "metadata": {},
     "output_type": "execute_result"
    }
   ],
   "source": [
    "# Ваш код здесь (ノ°∀°)ノ⌒･*:.｡. .｡.:*･゜ﾟ･*☆\n",
    "data[[\"name\", \"host_name\"]] = data[[\"name\", \"host_name\"]].fillna(\"\")\n",
    "data.reviews_per_month = data.reviews_per_month.fillna(0)\n",
    "data.last_review = data.last_review.fillna(\"2000-01-01\")\n",
    "data.isna().sum()"
   ]
  },
  {
   "cell_type": "markdown",
   "metadata": {},
   "source": [
    "Разобъем данные на обучение и контроль."
   ]
  },
  {
   "cell_type": "code",
   "execution_count": 7,
   "metadata": {},
   "outputs": [],
   "source": [
    "from sklearn.model_selection import train_test_split\n",
    "X_train, X_test, y_train, y_test = train_test_split(data.drop(columns=['price']), data[['price']],\n",
    "                                                    test_size=0.3, random_state=241)"
   ]
  },
  {
   "cell_type": "markdown",
   "metadata": {},
   "source": [
    "## Часть 1: Алгоритм kNN в задаче регрессии"
   ]
  },
  {
   "cell_type": "markdown",
   "metadata": {},
   "source": [
    "<b> 1.1 (1.5 балла) </b>\n",
    "Реализуйте класс `KNNRegressor`, который используя метод k ближайших соседей решает задачу регрессии. Для решение данной задачи, необходимо найти $N_k$ - k соседей, и после использовать значения их целевых переменных для предсказания:\n",
    "\\begin{align}\n",
    "y = \\frac{1}{k}\\sum_{n \\in N_k}w_n y_n,\n",
    "\\end{align}\n",
    "\n",
    "где $w_n$ - вес каждого соседа. \n",
    "\n",
    "При этом `KNNRegressor` может работать в 2 режимах:\n",
    " - $uniform$ - ближайшие соседи учитываются с одинаковыми весами.\n",
    " - $distance$ - вес ближайших соседей зависит от расстояния\n",
    " \n",
    "Сигнатуру методов при желании можно менять."
   ]
  },
  {
   "cell_type": "code",
   "execution_count": 8,
   "metadata": {},
   "outputs": [],
   "source": [
    "from typing import Union, Callable, Iterable, Optional\n",
    "from sklearn.neighbors import NearestNeighbors\n",
    " \n",
    "\n",
    "class KNNRegressor:\n",
    "    def __init__(self, n_neighbors: int, metric: Union[str, Callable], mode: str = 'uniform'):\n",
    "        \"\"\"\n",
    "        params:\n",
    "            n_neighbors: number of neighbors\n",
    "            metric: metric to use for distance computation\n",
    "            mode: 'uniform' or 'distance'\n",
    "            'uniform' - all points in each neighborhood are weighted equally\n",
    "            'distance' - weight points by the inverse of their distance\n",
    "        \"\"\"\n",
    "        self.__mode = mode\n",
    "        self.__n_neighbors = n_neighbors\n",
    "        self.__metric = metric\n",
    "    \n",
    "    def fit(self, X: np.array, y: np.array) -> None:\n",
    "        \"\"\"\n",
    "            X: data\n",
    "            y: labels\n",
    "        \"\"\"\n",
    "        self.__y = y\n",
    "        self.__X = X\n",
    "        self.__l = len(X)\n",
    "        \n",
    "        self.__f = [] \n",
    "        ind, freq = np.unique(le_X_train[:, 0], return_counts=True)\n",
    "        self.__f.append(dict(list(zip(ind, freq / float(self.__l)))))\n",
    "        ind, freq = np.unique(le_X_train[:, 1], return_counts=True)\n",
    "        self.__f.append(dict(list(zip(ind, freq / float(self.__l)))))\n",
    "        ind, freq = np.unique(le_X_train[:, 2], return_counts=True)\n",
    "        self.__f.append(dict(list(zip(ind, freq / float(self.__l)))))  \n",
    "        \n",
    "        self.__nn = NearestNeighbors(n_neighbors=self.__n_neighbors, metric=self.__metric, metric_params={'f': self.__f})\n",
    "        self.__nn.fit(X)\n",
    "        pass\n",
    "\n",
    "    def predict(self, X: np.array, n_neighbors: Optional[int] = None) -> np.array:\n",
    "        \"\"\"\n",
    "            X: data\n",
    "            n_neighbors: number of neighbors\n",
    "        \"\"\"\n",
    "        distances, indices = self.__nn.kneighbors(X, n_neighbors)\n",
    "        if(self.__mode == \"uniform\"):\n",
    "            return np.take(self.__y, indices).sum(axis=1) / n_neighbors\n",
    "        elif(self.__mode == \"distance\"):\n",
    "            return (np.take(self.__y, indices) * (1 / distances)).sum(axis=1) / n_neighbors\n",
    "        pass"
   ]
  },
  {
   "cell_type": "markdown",
   "metadata": {},
   "source": [
    "## Часть 2: Категориальные признаки"
   ]
  },
  {
   "cell_type": "markdown",
   "metadata": {},
   "source": [
    "<b>2.1 (1 балл)</b>\n",
    "Реализуйте три функции расстояния на категориальных признаках, которые обсуждались на [третьем семинаре](https://github.com/mmp-mmro-team/mmp_mmro_fall_2019/blob/master/lecture-notes/Sem03_knn.pdf). Не забудьте, что KNNRegressor должен уметь работать с этими функциями расстояния. Как вариант, можно реализовать метрики как [user-defined distance](http://scikit-learn.org/stable/modules/generated/sklearn.neighbors.DistanceMetric.html)."
   ]
  },
  {
   "cell_type": "code",
   "execution_count": 9,
   "metadata": {},
   "outputs": [],
   "source": [
    "def overlap(x, z, f):\n",
    "    return (x != z).sum()\n",
    "    pass\n",
    "\n",
    "def flattened_overlap(x, z, f):\n",
    "    mas_freq = []\n",
    "    for d, n in zip(f, x):\n",
    "        mas_val = np.array([x for x in d.values() if x <= d.get(n, 0)])\n",
    "        mas_freq.append((mas_val ** 2).sum())\n",
    "    mas_freq = np.array(mas_freq)\n",
    "    return (x != z).sum() + ((x == z) * mas_freq).sum()\n",
    "    pass\n",
    "\n",
    "def log_overlap(x, z, f):\n",
    "    mas_freq_x = []\n",
    "    mas_freq_z = []\n",
    "    for d, n_x, n_z in zip(f, x, z):\n",
    "        mas_freq_x.append(d.get(n_x, 0))\n",
    "        mas_freq_z.append(d.get(n_z, 0))\n",
    "    mas_freq_x = np.log(mas_freq_x + 1)\n",
    "    mas_freq_z = np.log(mas_freq_z + 1)\n",
    "    return ((x != z) * mas_freq_x * mas_freq_z).sum()\n",
    "    pass"
   ]
  },
  {
   "cell_type": "markdown",
   "metadata": {},
   "source": [
    "<b>2.2 (1 балл)</b> Найдите все категориальные признаки в данных. Подсчитайте для каждой из метрик качество на тестовой выборке `X_test` при числе соседей $k = 10$. Качество измеряйте с помощью RMSE.\n",
    "\n",
    "Какая функция расстояния оказалась лучшей? Почему?"
   ]
  },
  {
   "cell_type": "code",
   "execution_count": 10,
   "metadata": {},
   "outputs": [
    {
     "name": "stderr",
     "output_type": "stream",
     "text": [
      "C:\\Users\\Lev\\Anaconda3\\lib\\site-packages\\pandas\\core\\generic.py:5208: SettingWithCopyWarning: \n",
      "A value is trying to be set on a copy of a slice from a DataFrame.\n",
      "Try using .loc[row_indexer,col_indexer] = value instead\n",
      "\n",
      "See the caveats in the documentation: http://pandas.pydata.org/pandas-docs/stable/user_guide/indexing.html#returning-a-view-versus-a-copy\n",
      "  self[name] = value\n"
     ]
    }
   ],
   "source": [
    "# Ваш код здесь\n",
    "from sklearn.preprocessing import LabelEncoder\n",
    "le_X_train = X_train[[\"neighbourhood_group\", \"neighbourhood\", \"room_type\"]]\n",
    "le_X_test = X_test[[\"neighbourhood_group\", \"neighbourhood\", \"room_type\"]]\n",
    "\n",
    "le_neighbourhood_group = LabelEncoder()\n",
    "le_neighbourhood = LabelEncoder()\n",
    "le_room_type = LabelEncoder()\n",
    "\n",
    "le_neighbourhood_group.fit(data.neighbourhood_group)\n",
    "le_neighbourhood.fit(data.neighbourhood)\n",
    "le_room_type.fit(data.room_type)\n",
    "\n",
    "data.neighbourhood_group = le_neighbourhood_group.transform(data.neighbourhood_group)\n",
    "data.neighbourhood = le_neighbourhood.transform(data.neighbourhood)\n",
    "data.room_type = le_room_type.transform(data.room_type)\n",
    "\n",
    "le_X_train.neighbourhood_group = le_neighbourhood_group.transform(le_X_train.neighbourhood_group)\n",
    "le_X_train.neighbourhood = le_neighbourhood.transform(le_X_train.neighbourhood)\n",
    "le_X_train.room_type = le_room_type.transform(le_X_train.room_type)\n",
    "\n",
    "le_X_test.neighbourhood_group = le_neighbourhood_group.transform(le_X_test.neighbourhood_group)\n",
    "le_X_test.neighbourhood = le_neighbourhood.transform(le_X_test.neighbourhood)\n",
    "le_X_test.room_type = le_room_type.transform(le_X_test.room_type)\n",
    "\n",
    "le_X_train = le_X_train.to_numpy()\n",
    "le_X_test = le_X_test.to_numpy()\n",
    "y_test = [x[0] for x in y_test.to_numpy()]\n",
    "y_train = [x[0] for x in y_train.to_numpy()]"
   ]
  },
  {
   "cell_type": "code",
   "execution_count": 11,
   "metadata": {},
   "outputs": [],
   "source": [
    "# print(le_X_train)\n",
    "# print(le_X_test)\n",
    "# print(y_test)\n",
    "# print(y_train)"
   ]
  },
  {
   "cell_type": "code",
   "execution_count": 12,
   "metadata": {},
   "outputs": [],
   "source": [
    "def RMSE(x, z):\n",
    "    l = len(x)\n",
    "    return np.sqrt(((x - z)**2).sum() / l)"
   ]
  },
  {
   "cell_type": "code",
   "execution_count": 13,
   "metadata": {},
   "outputs": [],
   "source": [
    "# le_X_train_overlap, le_X_test_overlap, y_train_overlap = le_X_train, le_X_test, y_train\n",
    "# class_overlap = KNNRegressor(10, overlap, \"uniform\")\n",
    "# class_overlap.fit(le_X_train_overlap, y_train_overlap)\n",
    "# y_predict = class_overlap.predict(le_X_test_overlap, 10)\n",
    "# print(RMSE(y_predict, y_test))"
   ]
  },
  {
   "cell_type": "markdown",
   "metadata": {},
   "source": [
    "Overlap\n",
    "\"Uniform\": 217.1656726124964"
   ]
  },
  {
   "cell_type": "code",
   "execution_count": null,
   "metadata": {},
   "outputs": [],
   "source": [
    "class_flattened_overlap = KNNRegressor(10, flattened_overlap, \"uniform\")\n",
    "class_flattened_overlap.fit(le_X_train, y_train)\n",
    "y_predict = class_flattened_overlap.predict(le_X_test, 10)\n",
    "print(RMSE(y_predict, y_test))"
   ]
  },
  {
   "cell_type": "markdown",
   "metadata": {},
   "source": [
    "flattened_overlap\n",
    "\"Uniform\": 219.4005764208312‬"
   ]
  },
  {
   "cell_type": "code",
   "execution_count": null,
   "metadata": {},
   "outputs": [],
   "source": [
    "class_log_overlap = KNNRegressor(10, log_overlap, \"uniform\")\n",
    "class_log_overlap.fit(le_X_train, y_train)\n",
    "y_predict = class_log_overlap.predict(le_X_test, 10)\n",
    "print(RMSE(y_predict, y_test))"
   ]
  },
  {
   "cell_type": "markdown",
   "metadata": {},
   "source": [
    "log_overlap\n",
    "\"Uniform\": 220.7333952971305‬"
   ]
  },
  {
   "cell_type": "markdown",
   "metadata": {},
   "source": [
    "<b>2.3 (1 балл) бонус</b> Подберите лучшее (на тестовой выборке) число соседей $k$ для каждой из функций расстояния. Какого удалось достичь уровня качества?"
   ]
  },
  {
   "cell_type": "code",
   "execution_count": 14,
   "metadata": {},
   "outputs": [],
   "source": [
    "# Ваш код здесь"
   ]
  },
  {
   "cell_type": "markdown",
   "metadata": {},
   "source": [
    "<b>2.4 (2.5 балла)</b> Отойдем ненадолго от задачи регрессии и перейдём к задаче классификации: будем определять, являеться ли квартира дорогой $(target = 1)$ или дешевой $(target = 0)$. Будем считать дорогими квариры, цена которых выше среднего."
   ]
  },
  {
   "cell_type": "code",
   "execution_count": 15,
   "metadata": {},
   "outputs": [],
   "source": [
    "data['target'] = (data.price > data.price.mean()).astype(int)"
   ]
  },
  {
   "cell_type": "markdown",
   "metadata": {},
   "source": [
    "Реализуйте счетчики, которые заменят категориальные признаки на вещественные.\n",
    "\n",
    "А именно, для каждого категориального признака $f_j(x)$ необходимо сделать следующее:\n",
    "1. Число `counts` объектов в обучающей выборке с таким же значением признака.\n",
    "\\begin{align}\n",
    "counts_j(c) = \\sum_{i=1}^l [f_j(x_i) = c]\n",
    "\\end{align}\n",
    "2. Число `successes` объектов первого класса ($y = 1$) в обучающей выборке с таким же значением признака.\n",
    "\\begin{align}\n",
    "successes_j(c) = \\sum_{i=1}^l[f_j(x_i) = c][y_i = +1].\n",
    "\\end{align}\n",
    "3. Сглаженное отношение двух предыдущих величин:\n",
    "\\begin{align}\n",
    "p_j(c) = \\frac{successes_j(c) + a}{counts_j(c) + b},\n",
    "\\end{align}\n",
    "\n",
    "где $a$ и $b$ - априорные счетчики (например, a = 1, b = 2)."
   ]
  },
  {
   "cell_type": "code",
   "execution_count": 16,
   "metadata": {},
   "outputs": [],
   "source": [
    "def counters(x):\n",
    "    \"\"\"\n",
    "    params:\n",
    "        x: value on categorical feature for N objects\n",
    "    returns: vector of length N\n",
    "    \"\"\"\n",
    "    a = 1\n",
    "    b = 2\n",
    "    \n",
    "    data_count = data.copy(deep=True)\n",
    "    data_count[\"count\"] = 1\n",
    "    data_count_neighbourhood_group = data_count[[\"neighbourhood_group\", \"target\", \"count\"]].groupby(['neighbourhood_group']).sum().to_numpy()\n",
    "    data_count_neighbourhood = data_count[[\"neighbourhood\", \"target\", \"count\"]].groupby(['neighbourhood']).sum().to_numpy()\n",
    "    data_count_room_type = data_count[[\"room_type\", \"target\", \"count\"]].groupby(['room_type']).sum().to_numpy()\n",
    "    \n",
    "    rezult = []\n",
    "    \n",
    "    #print(data_count_neighbourhood_group[:, 0])\n",
    "    rezult.append((data_count_neighbourhood_group[:, 0] + a) / (data_count_neighbourhood_group[:, 1] + b))\n",
    "    rezult.append((data_count_neighbourhood[:, 0] + a) / (data_count_neighbourhood[:, 1] + b))\n",
    "    rezult.append((data_count_room_type[:, 0] + a) / (data_count_room_type[:, 1] + b))\n",
    "    return rezult\n",
    "#     for n, c in zip([\"neighbourhood_group\", \"neighbourhood\", \"room_type\"], rezult):\n",
    "#         data_count[n] = [c[x] for x in data_count[n]]\n",
    "    #data_count[\"neighbourhood_group\"] \n",
    "    #print(rezult)\n",
    "    pass"
   ]
  },
  {
   "cell_type": "markdown",
   "metadata": {},
   "source": [
    "Поскольку признаки, содержащие информацию о целевой переменной, могут привести к переобучению, может оказаться полезным сделать *фолдинг*: разбить обучающую выборку на $n$ частей, и для $i$-й части считать `counts` и `successes` по всем остальным частям. Для тестовой выборки используются счетчики, посчитанный по всей обучающей выборке. Реализуйте и такой вариант. Достаточно взять $n = 3$."
   ]
  },
  {
   "cell_type": "code",
   "execution_count": 17,
   "metadata": {},
   "outputs": [],
   "source": [
    "from sklearn.model_selection import KFold \n",
    "def fold_counters(x):\n",
    "    \"\"\"\n",
    "    params:\n",
    "        x: value on categorical feature for N objects\n",
    "    returns: vector of length N\n",
    "    \"\"\"\n",
    "    kf = KFold(n_splits=3, random_state=42, shuffle=True)\n",
    "    \n",
    "    train_index, test_index = list(kf.split(x))[0]\n",
    "    #print(\"TRAIN:\", train_index) \n",
    "    #print(\"TEST:\", test_index)\n",
    "    X_train, X_test = x.loc[train_index], x.loc[test_index]\n",
    "    \n",
    "    transform = counters(X_train)\n",
    "    \n",
    "    for n, c in zip([\"neighbourhood_group\", \"neighbourhood\", \"room_type\"], transform):\n",
    "        X_train[n] = [c[x] for x in X_train[n]]\n",
    "        X_test[n] = [c[x] for x in X_test[n]]\n",
    "    \n",
    "    return X_train, X_test\n",
    "    pass\n",
    "\n",
    "def without_fold_counters(x):\n",
    "    transform = counters(x)\n",
    "    kf = KFold(n_splits=3, random_state=42, shuffle=True)\n",
    "    train_index, test_index = list(kf.split(x))[0]\n",
    "    X_train, X_test = x.loc[train_index], x.loc[test_index]\n",
    "    for n, c in zip([\"neighbourhood_group\", \"neighbourhood\", \"room_type\"], transform):\n",
    "        X_train[n] = [c[x] for x in X_train[n]]\n",
    "        X_test[n] = [c[x] for x in X_test[n]]\n",
    "    \n",
    "    return X_train, X_test\n",
    "    "
   ]
  },
  {
   "cell_type": "markdown",
   "metadata": {},
   "source": [
    "Посчитайте на тесте AUC-ROC метода $k$ ближайших соседей с евклидовой метрикой для выборки, где категориальные признаки заменены на счетчики. Сравните по AUC-ROC два варианта формирования выборки — с фолдингом и без. Не забудьте подобрать наилучшее число соседей $k$."
   ]
  },
  {
   "cell_type": "code",
   "execution_count": 18,
   "metadata": {},
   "outputs": [],
   "source": [
    "X_train, X_test = fold_counters(data)\n",
    "count_X_train = X_train[[\"neighbourhood_group\", \"neighbourhood\", \"room_type\"]]\n",
    "count_X_test = X_test[[\"neighbourhood_group\", \"neighbourhood\", \"room_type\"]]\n",
    "count_y_train = X_train[\"target\"]\n",
    "count_y_test = X_test[\"target\"]\n",
    "\n",
    "count_X_train = count_X_train.to_numpy()\n",
    "count_X_test = count_X_test.to_numpy()\n",
    "count_y_test = count_y_test.to_numpy()\n",
    "count_y_train = count_y_train.to_numpy()"
   ]
  },
  {
   "cell_type": "code",
   "execution_count": 19,
   "metadata": {},
   "outputs": [
    {
     "name": "stdout",
     "output_type": "stream",
     "text": [
      "153 0.7726047322493931\n"
     ]
    }
   ],
   "source": [
    "from sklearn.metrics import roc_auc_score\n",
    "\n",
    "n_neighbors = 153\n",
    "nn = NearestNeighbors(n_neighbors=n_neighbors, metric='euclidean')\n",
    "nn.fit(count_X_train)\n",
    "distances, indices = nn.kneighbors(count_X_test, n_neighbors)\n",
    "count_y_predict = np.rint(np.take(count_y_train, indices).sum(axis=1) / n_neighbors)\n",
    "count_y_predict_regression = np.take(count_y_train, indices).sum(axis=1) / n_neighbors\n",
    "print(n_neighbors, roc_auc_score(count_y_predict, count_y_test))\n",
    "#print(\"RMSE\", RMSE(count_y_predict_regression, count_y_test))\n",
    "\n",
    "#for n_neighbors in range(1, 1000, 2):\n",
    "    \n",
    "#     nn = NearestNeighbors(n_neighbors=n_neighbors, metric='euclidean')\n",
    "#     nn.fit(count_X_train)\n",
    "#     distances, indices = nn.kneighbors(count_X_test, n_neighbors)\n",
    "#     #print(count_y_train)\n",
    "#     count_y_predict = np.rint(np.take(count_y_train, indices).sum(axis=1) / n_neighbors)\n",
    "#     #print(count_y_predict, count_y_test)\n",
    "#     print(n_neighbors, roc_auc_score(count_y_predict, count_y_test))"
   ]
  },
  {
   "cell_type": "markdown",
   "metadata": {},
   "source": [
    "Fold: 153 0.7726047322493931"
   ]
  },
  {
   "cell_type": "code",
   "execution_count": 20,
   "metadata": {},
   "outputs": [],
   "source": [
    "X_train, X_test = without_fold_counters(data)\n",
    "count_X_train = X_train[[\"neighbourhood_group\", \"neighbourhood\", \"room_type\"]]\n",
    "count_X_test = X_test[[\"neighbourhood_group\", \"neighbourhood\", \"room_type\"]]\n",
    "count_y_train = X_train[\"target\"]\n",
    "count_y_test = X_test[\"target\"]\n",
    "\n",
    "count_X_train = count_X_train.to_numpy()\n",
    "count_X_test = count_X_test.to_numpy()\n",
    "count_y_test = count_y_test.to_numpy()\n",
    "count_y_train = count_y_train.to_numpy()"
   ]
  },
  {
   "cell_type": "code",
   "execution_count": 21,
   "metadata": {},
   "outputs": [
    {
     "name": "stdout",
     "output_type": "stream",
     "text": [
      "161 0.7724638834229665\n"
     ]
    }
   ],
   "source": [
    "from sklearn.metrics import roc_auc_score\n",
    "\n",
    "n_neighbors = 161\n",
    "nn = NearestNeighbors(n_neighbors=n_neighbors, metric='euclidean')\n",
    "nn.fit(count_X_train)\n",
    "distances, indices = nn.kneighbors(count_X_test, n_neighbors)\n",
    "count_y_predict = np.rint(np.take(count_y_train, indices).sum(axis=1) / n_neighbors)\n",
    "print(n_neighbors, roc_auc_score(count_y_predict, count_y_test))\n",
    "\n",
    "# for n_neighbors in range(1, 1000, 2):\n",
    "    \n",
    "#     nn = NearestNeighbors(n_neighbors=n_neighbors, metric='euclidean')\n",
    "#     nn.fit(count_X_train)\n",
    "#     distances, indices = nn.kneighbors(count_X_test, n_neighbors)\n",
    "#     #print(count_y_train)\n",
    "#     count_y_predict = np.rint(np.take(count_y_train, indices).sum(axis=1) / n_neighbors)\n",
    "#     #print(count_y_predict, count_y_test)\n",
    "#     print(n_neighbors, roc_auc_score(count_y_predict, count_y_test))"
   ]
  },
  {
   "cell_type": "markdown",
   "metadata": {},
   "source": [
    "Without fold: 161 0.7724638834229665"
   ]
  },
  {
   "cell_type": "markdown",
   "metadata": {},
   "source": [
    "<b>2.5 (1 балл)</b> Вернемся к задаче регрессии. Утверждается, что для задачи регрессии можно также сделать преобразование категориальных признаков в действительные числа. Для этого достаточно для каждого значения признака $f_j$ вычислить:\n",
    "\\begin{align}\n",
    "p_j(c) = g(T_i | f_j(x_i) = c),\n",
    "\\end{align}\n",
    "\n",
    "где $T_i$ - значения целевой переменной объекта $x_i$. Функция $g$ - среднее (mean) или среднеквадратичное отклонение (std).\n",
    "\n",
    "Закодируйте категориальные признаки обоими способами и найдите значение RMSE. Используйте евклидову метрику для поиска ближайших соседей. Для какой функции $g$ значение RMSE лучше? Почему?"
   ]
  },
  {
   "cell_type": "code",
   "execution_count": 22,
   "metadata": {},
   "outputs": [],
   "source": [
    "# Ваш код здесь\n",
    "X_train, X_test, y_train, y_test = train_test_split(data.drop(columns=['price']), data[['price']],\n",
    "                                                    test_size=0.3, random_state=241)\n",
    "\n",
    "y_test = [x[0] for x in y_test.to_numpy()]\n",
    "y_train = [x[0] for x in y_train.to_numpy()]\n",
    "\n",
    "p_X_train = X_train[[\"neighbourhood_group\", \"neighbourhood\", \"room_type\"]]\n",
    "p_X_test = X_test[[\"neighbourhood_group\", \"neighbourhood\", \"room_type\"]]\n",
    "\n",
    "transform_mean_neighbourhood_group = data[[\"neighbourhood_group\", \"price\"]].groupby([\"neighbourhood_group\"]).mean().to_numpy()\n",
    "transform_mean_neighbourhood = data[[\"neighbourhood\", \"price\"]].groupby([\"neighbourhood\"]).mean().to_numpy()\n",
    "transform_mean_room_type = data[[\"room_type\", \"price\"]].groupby([\"room_type\"]).mean().to_numpy()\n",
    "\n",
    "transform_std_neighbourhood_group = data[[\"neighbourhood_group\", \"price\"]].groupby([\"neighbourhood_group\"]).std().fillna(0.0).to_numpy()\n",
    "transform_std_neighbourhood = data[[\"neighbourhood\", \"price\"]].groupby([\"neighbourhood\"]).std().fillna(0.0).to_numpy()\n",
    "transform_std_room_type = data[[\"room_type\", \"price\"]].groupby([\"room_type\"]).std().fillna(0.0).to_numpy()\n",
    "\n",
    "X_train_mean = p_X_train.apply(lambda x: pd.Series([transform_mean_neighbourhood_group[x.neighbourhood_group],\n",
    "                                                    transform_mean_neighbourhood[x.neighbourhood],\n",
    "                                                    transform_mean_room_type[x.room_type]], \n",
    "                                                   index=[\"neighbourhood_group\", \"neighbourhood\", \"room_type\"]), axis=1)\n",
    "\n",
    "X_train_std = p_X_train.apply(lambda x: pd.Series([transform_std_neighbourhood_group[x.neighbourhood_group],\n",
    "                                                    transform_std_neighbourhood[x.neighbourhood],\n",
    "                                                    transform_std_room_type[x.room_type]], \n",
    "                                                   index=[\"neighbourhood_group\", \"neighbourhood\", \"room_type\"]), axis=1)\n",
    "\n",
    "X_test_mean = p_X_test.apply(lambda x: pd.Series([transform_mean_neighbourhood_group[x.neighbourhood_group],\n",
    "                                                    transform_mean_neighbourhood[x.neighbourhood],\n",
    "                                                    transform_mean_room_type[x.room_type]], \n",
    "                                                   index=[\"neighbourhood_group\", \"neighbourhood\", \"room_type\"]), axis=1)\n",
    "\n",
    "X_test_std = p_X_test.apply(lambda x: pd.Series([transform_std_neighbourhood_group[x.neighbourhood_group],\n",
    "                                                    transform_std_neighbourhood[x.neighbourhood],\n",
    "                                                    transform_std_room_type[x.room_type]], \n",
    "                                                   index=[\"neighbourhood_group\", \"neighbourhood\", \"room_type\"]), axis=1)\n"
   ]
  },
  {
   "cell_type": "code",
   "execution_count": 23,
   "metadata": {},
   "outputs": [
    {
     "name": "stdout",
     "output_type": "stream",
     "text": [
      "Mean 209.32125312439408\n",
      "Std 207.30508145508747\n"
     ]
    }
   ],
   "source": [
    "n_neighbors = 30\n",
    "nn = NearestNeighbors(n_neighbors=n_neighbors)\n",
    "nn.fit(X_train_mean)\n",
    "distances, indices = nn.kneighbors(X_test_mean, n_neighbors)\n",
    "y_predict = np.take(y_train, indices).sum(axis=1) / n_neighbors\n",
    "print(\"Mean\", RMSE(y_predict, y_test))\n",
    "\n",
    "n_neighbors = 30\n",
    "nn = NearestNeighbors(n_neighbors=n_neighbors)\n",
    "nn.fit(X_train_std)\n",
    "distances, indices = nn.kneighbors(X_test_std, n_neighbors)\n",
    "y_predict = np.take(y_train, indices).sum(axis=1) / n_neighbors\n",
    "print(\"Std\", RMSE(y_predict, y_test))"
   ]
  },
  {
   "cell_type": "markdown",
   "metadata": {},
   "source": [
    "## Часть 3: Текстовые признаки"
   ]
  },
  {
   "cell_type": "markdown",
   "metadata": {},
   "source": [
    "<b>3.1 (2 балла)</b> Перейдем от категориальным признаков к текстовым. Рассмотрим 2 способа преобразования текста в действительные числа:\n",
    "- Мешок слов (Bag of Words)\n",
    "- TF-IDF\n",
    "\n",
    "[Здесь](https://scikit-learn.org/stable/modules/feature_extraction.html) вы можете прочитать про их применение в Питоне.\n",
    "\n",
    "Сравните оба способа на задаче регресси. Какую лучше метрику использовать: евклидову или косинусную меру? Постройте графики зависимости качества решения задачи от способа преобразования, метрики и количества соседей. Мера качества - RMSE.\n",
    "\n",
    "Объясните полученные результаты.\n",
    "\n",
    "Перед преобразованием не забудьте уменьшить размер словаря. Например, это можно сделать за счет приведения всех слов к одному регистру и удаления [стопслов](https://en.wikipedia.org/wiki/Stop_words) (артиклей, предлогов, союзов)."
   ]
  },
  {
   "cell_type": "code",
   "execution_count": 24,
   "metadata": {},
   "outputs": [
    {
     "name": "stderr",
     "output_type": "stream",
     "text": [
      "C:\\Users\\Lev\\Anaconda3\\lib\\site-packages\\pandas\\core\\generic.py:5208: SettingWithCopyWarning: \n",
      "A value is trying to be set on a copy of a slice from a DataFrame.\n",
      "Try using .loc[row_indexer,col_indexer] = value instead\n",
      "\n",
      "See the caveats in the documentation: http://pandas.pydata.org/pandas-docs/stable/user_guide/indexing.html#returning-a-view-versus-a-copy\n",
      "  self[name] = value\n"
     ]
    }
   ],
   "source": [
    "from stop_words import get_stop_words\n",
    "X_train, X_test, y_train, y_test = train_test_split(data.drop(columns=['price']), data[['price']],\n",
    "                                                    test_size=0.3, random_state=241)\n",
    "\n",
    "def del_stop_words(x):\n",
    "    stop_words = get_stop_words('english')\n",
    "\n",
    "    word_X = x[['name', 'host_name']]\n",
    "    \n",
    "    word_X_mass = []\n",
    "    for i in word_X.name:\n",
    "        word_tokens = i.split()\n",
    "        filtered_sentence = [w for w in word_tokens if not w in stop_words]\n",
    "        word_X_mass.append(' '.join(filtered_sentence))\n",
    "    word_X.name = word_X_mass\n",
    "    \n",
    "    return word_X\n",
    "    \n",
    "word_X_train = del_stop_words(X_train)\n",
    "word_X_test = del_stop_words(X_test)\n",
    "word_y_train = y_train\n",
    "word_y_test = y_test\n",
    "\n",
    "word_X_train = word_X_train.to_numpy()\n",
    "word_X_test = word_X_test.to_numpy()\n",
    "word_y_test = [x[0] for x in word_y_test.to_numpy()]\n",
    "word_y_train = [x[0] for x in word_y_train.to_numpy()]"
   ]
  },
  {
   "cell_type": "code",
   "execution_count": 25,
   "metadata": {},
   "outputs": [],
   "source": [
    "from sklearn.feature_extraction.text import CountVectorizer, TfidfVectorizer\n",
    "from scipy.sparse import hstack as sparse_hstack\n",
    "\n",
    "tf_transformer_name = TfidfVectorizer(use_idf=False)\n",
    "tf_transformer_host_name = TfidfVectorizer(use_idf=False)\n",
    "tf_transformer_name.fit(data.name)\n",
    "tf_transformer_host_name.fit(data.host_name)\n",
    "\n",
    "tf_word_X_train = sparse_hstack(([tf_transformer_name.transform(word_X_train[:,0]), tf_transformer_host_name.transform(word_X_train[:,1])]))\n",
    "tf_word_X_test = sparse_hstack(([tf_transformer_name.transform(word_X_test[:,0]), tf_transformer_host_name.transform(word_X_test[:,1])]))\n",
    "\n",
    "vectorizer_name = CountVectorizer()\n",
    "vectorizer_host_name = CountVectorizer()\n",
    "vectorizer_name.fit(data.name)\n",
    "vectorizer_host_name.fit(data.host_name)\n",
    "\n",
    "bw_word_X_train = sparse_hstack(([vectorizer_name.transform(word_X_train[:,0]), vectorizer_host_name.transform(word_X_train[:,1])]))\n",
    "bw_word_X_test = sparse_hstack(([vectorizer_name.transform(word_X_test[:,0]), vectorizer_host_name.transform(word_X_test[:,1])]))"
   ]
  },
  {
   "cell_type": "code",
   "execution_count": 27,
   "metadata": {},
   "outputs": [
    {
     "data": {
      "image/png": "[encoded data removed]",
      "text/plain": [
       "<Figure size 432x288 with 2 Axes>"
      ]
     },
     "metadata": {
      "needs_background": "light"
     },
     "output_type": "display_data"
    }
   ],
   "source": [
    "# Ваш код здесь\n",
    "%matplotlib inline  \n",
    "import matplotlib.pyplot as plt\n",
    "fig, (ax1, ax2) = plt.subplots(2, 1)\n",
    "for metric in [\"euclidean\", \"cosine\"]:\n",
    "    rezult_tf_y = []\n",
    "    rezult_bw_y = []\n",
    "    rezult_x = []\n",
    "    for n_neighbors in range(10, 1000, 30):\n",
    "        nn = NearestNeighbors(n_neighbors=n_neighbors, algorithm='brute', metric=metric)\n",
    "        nn.fit(tf_word_X_train)\n",
    "        distances, indices = nn.kneighbors(tf_word_X_test, n_neighbors)\n",
    "        word_y_predict = np.take(word_y_train, indices).sum(axis=1) / n_neighbors\n",
    "        rezult_tf_y.append(RMSE(word_y_predict, word_y_test))\n",
    "        \n",
    "        nn = NearestNeighbors(n_neighbors=n_neighbors, algorithm='brute', metric=metric)\n",
    "        nn.fit(bw_word_X_train)\n",
    "        distances, indices = nn.kneighbors(bw_word_X_test, n_neighbors)\n",
    "        word_y_predict = np.take(word_y_train, indices).sum(axis=1) / n_neighbors\n",
    "        rezult_bw_y.append(RMSE(word_y_predict, word_y_test))\n",
    "        \n",
    "        rezult_x.append(n_neighbors)\n",
    "    axe = None\n",
    "    if metric == \"euclidean\":\n",
    "        axe = ax1\n",
    "    else:\n",
    "        axe = ax2\n",
    "    axe.plot(rezult_x, rezult_tf_y, label=\"tf\")\n",
    "    axe.plot(rezult_x, rezult_bw_y, label=\"bw\")\n",
    "    axe.legend()\n",
    "plt.show()"
   ]
  },
  {
   "cell_type": "markdown",
   "metadata": {},
   "source": [
    "<b>3.2 (1 балл)</b> Используя все доступные признаки, решите задачу регрессии. Для категориальных и текстовых признаков выберите лучшие преобразования. Повлияло ли добавление количественного признака на метрику качества?"
   ]
  },
  {
   "cell_type": "code",
   "execution_count": 28,
   "metadata": {},
   "outputs": [
    {
     "data": {
      "text/html": [
       "<div>\n",
       "<style scoped>\n",
       "    .dataframe tbody tr th:only-of-type {\n",
       "        vertical-align: middle;\n",
       "    }\n",
       "\n",
       "    .dataframe tbody tr th {\n",
       "        vertical-align: top;\n",
       "    }\n",
       "\n",
       "    .dataframe thead th {\n",
       "        text-align: right;\n",
       "    }\n",
       "</style>\n",
       "<table border=\"1\" class=\"dataframe\">\n",
       "  <thead>\n",
       "    <tr style=\"text-align: right;\">\n",
       "      <th></th>\n",
       "      <th>id</th>\n",
       "      <th>name</th>\n",
       "      <th>host_id</th>\n",
       "      <th>host_name</th>\n",
       "      <th>neighbourhood_group</th>\n",
       "      <th>neighbourhood</th>\n",
       "      <th>latitude</th>\n",
       "      <th>longitude</th>\n",
       "      <th>room_type</th>\n",
       "      <th>price</th>\n",
       "      <th>minimum_nights</th>\n",
       "      <th>number_of_reviews</th>\n",
       "      <th>last_review</th>\n",
       "      <th>reviews_per_month</th>\n",
       "      <th>calculated_host_listings_count</th>\n",
       "      <th>availability_365</th>\n",
       "      <th>target</th>\n",
       "    </tr>\n",
       "  </thead>\n",
       "  <tbody>\n",
       "    <tr>\n",
       "      <td>0</td>\n",
       "      <td>2539</td>\n",
       "      <td>Clean &amp; quiet apt home by the park</td>\n",
       "      <td>2787</td>\n",
       "      <td>John</td>\n",
       "      <td>1</td>\n",
       "      <td>108</td>\n",
       "      <td>40.64749</td>\n",
       "      <td>-73.97237</td>\n",
       "      <td>1</td>\n",
       "      <td>149</td>\n",
       "      <td>1</td>\n",
       "      <td>9</td>\n",
       "      <td>2018-10-19</td>\n",
       "      <td>0.21</td>\n",
       "      <td>6</td>\n",
       "      <td>365</td>\n",
       "      <td>0</td>\n",
       "    </tr>\n",
       "    <tr>\n",
       "      <td>1</td>\n",
       "      <td>2595</td>\n",
       "      <td>Skylit Midtown Castle</td>\n",
       "      <td>2845</td>\n",
       "      <td>Jennifer</td>\n",
       "      <td>2</td>\n",
       "      <td>127</td>\n",
       "      <td>40.75362</td>\n",
       "      <td>-73.98377</td>\n",
       "      <td>0</td>\n",
       "      <td>225</td>\n",
       "      <td>1</td>\n",
       "      <td>45</td>\n",
       "      <td>2019-05-21</td>\n",
       "      <td>0.38</td>\n",
       "      <td>2</td>\n",
       "      <td>355</td>\n",
       "      <td>1</td>\n",
       "    </tr>\n",
       "    <tr>\n",
       "      <td>2</td>\n",
       "      <td>3647</td>\n",
       "      <td>THE VILLAGE OF HARLEM....NEW YORK !</td>\n",
       "      <td>4632</td>\n",
       "      <td>Elisabeth</td>\n",
       "      <td>2</td>\n",
       "      <td>94</td>\n",
       "      <td>40.80902</td>\n",
       "      <td>-73.94190</td>\n",
       "      <td>1</td>\n",
       "      <td>150</td>\n",
       "      <td>3</td>\n",
       "      <td>0</td>\n",
       "      <td>2000-01-01</td>\n",
       "      <td>0.00</td>\n",
       "      <td>1</td>\n",
       "      <td>365</td>\n",
       "      <td>0</td>\n",
       "    </tr>\n",
       "    <tr>\n",
       "      <td>3</td>\n",
       "      <td>3831</td>\n",
       "      <td>Cozy Entire Floor of Brownstone</td>\n",
       "      <td>4869</td>\n",
       "      <td>LisaRoxanne</td>\n",
       "      <td>1</td>\n",
       "      <td>41</td>\n",
       "      <td>40.68514</td>\n",
       "      <td>-73.95976</td>\n",
       "      <td>0</td>\n",
       "      <td>89</td>\n",
       "      <td>1</td>\n",
       "      <td>270</td>\n",
       "      <td>2019-07-05</td>\n",
       "      <td>4.64</td>\n",
       "      <td>1</td>\n",
       "      <td>194</td>\n",
       "      <td>0</td>\n",
       "    </tr>\n",
       "    <tr>\n",
       "      <td>4</td>\n",
       "      <td>5022</td>\n",
       "      <td>Entire Apt: Spacious Studio/Loft by central park</td>\n",
       "      <td>7192</td>\n",
       "      <td>Laura</td>\n",
       "      <td>2</td>\n",
       "      <td>61</td>\n",
       "      <td>40.79851</td>\n",
       "      <td>-73.94399</td>\n",
       "      <td>0</td>\n",
       "      <td>80</td>\n",
       "      <td>10</td>\n",
       "      <td>9</td>\n",
       "      <td>2018-11-19</td>\n",
       "      <td>0.10</td>\n",
       "      <td>1</td>\n",
       "      <td>0</td>\n",
       "      <td>0</td>\n",
       "    </tr>\n",
       "  </tbody>\n",
       "</table>\n",
       "</div>"
      ],
      "text/plain": [
       "     id                                              name  host_id  \\\n",
       "0  2539                Clean & quiet apt home by the park     2787   \n",
       "1  2595                             Skylit Midtown Castle     2845   \n",
       "2  3647               THE VILLAGE OF HARLEM....NEW YORK !     4632   \n",
       "3  3831                   Cozy Entire Floor of Brownstone     4869   \n",
       "4  5022  Entire Apt: Spacious Studio/Loft by central park     7192   \n",
       "\n",
       "     host_name  neighbourhood_group  neighbourhood  latitude  longitude  \\\n",
       "0         John                    1            108  40.64749  -73.97237   \n",
       "1     Jennifer                    2            127  40.75362  -73.98377   \n",
       "2    Elisabeth                    2             94  40.80902  -73.94190   \n",
       "3  LisaRoxanne                    1             41  40.68514  -73.95976   \n",
       "4        Laura                    2             61  40.79851  -73.94399   \n",
       "\n",
       "   room_type  price  minimum_nights  number_of_reviews last_review  \\\n",
       "0          1    149               1                  9  2018-10-19   \n",
       "1          0    225               1                 45  2019-05-21   \n",
       "2          1    150               3                  0  2000-01-01   \n",
       "3          0     89               1                270  2019-07-05   \n",
       "4          0     80              10                  9  2018-11-19   \n",
       "\n",
       "   reviews_per_month  calculated_host_listings_count  availability_365  target  \n",
       "0               0.21                               6               365       0  \n",
       "1               0.38                               2               355       1  \n",
       "2               0.00                               1               365       0  \n",
       "3               4.64                               1               194       0  \n",
       "4               0.10                               1                 0       0  "
      ]
     },
     "execution_count": 28,
     "metadata": {},
     "output_type": "execute_result"
    }
   ],
   "source": [
    "data.head(5)"
   ]
  },
  {
   "cell_type": "code",
   "execution_count": 29,
   "metadata": {},
   "outputs": [
    {
     "name": "stderr",
     "output_type": "stream",
     "text": [
      "C:\\Users\\Lev\\Anaconda3\\lib\\site-packages\\pandas\\core\\generic.py:5208: SettingWithCopyWarning: \n",
      "A value is trying to be set on a copy of a slice from a DataFrame.\n",
      "Try using .loc[row_indexer,col_indexer] = value instead\n",
      "\n",
      "See the caveats in the documentation: http://pandas.pydata.org/pandas-docs/stable/user_guide/indexing.html#returning-a-view-versus-a-copy\n",
      "  self[name] = value\n"
     ]
    },
    {
     "name": "stdout",
     "output_type": "stream",
     "text": [
      "219.60634179866196\n"
     ]
    }
   ],
   "source": [
    "# Ваш код здесь\n",
    "from scipy.sparse import csr_matrix\n",
    "X_train, X_test, y_train, y_test = train_test_split(data.drop(columns=['price']), data[['price']],\n",
    "                                                    test_size=0.3, random_state=241)\n",
    "\n",
    "n_neighbors = 100\n",
    "\n",
    "y_test = [x[0] for x in y_test.to_numpy()]\n",
    "y_train = [x[0] for x in y_train.to_numpy()]\n",
    "\n",
    "# transform_data = data.copy(deep=True)\n",
    "value_text_data_test = csr_matrix(X_test.drop(columns=[\"name\", \"host_name\", \"last_review\", \"neighbourhood_group\", \"neighbourhood\", \"room_type\"]).values)\n",
    "value_text_data_train = csr_matrix(X_train.drop(columns=[\"name\", \"host_name\", \"last_review\", \"neighbourhood_group\", \"neighbourhood\", \"room_type\"]).values)\n",
    "\n",
    "transform = counters(data)\n",
    "for n, c in zip([\"neighbourhood_group\", \"neighbourhood\", \"room_type\"], transform):\n",
    "    X_train[n] = [c[x] for x in X_train[n]]\n",
    "    X_test[n] = [c[x] for x in X_test[n]]\n",
    "\n",
    "ketegorial_text_data_train = csr_matrix(X_train[[\"neighbourhood_group\", \"neighbourhood\", \"room_type\"]].values)\n",
    "ketegorial_text_data_test = csr_matrix(X_test[[\"neighbourhood_group\", \"neighbourhood\", \"room_type\"]].values)\n",
    "\n",
    "X_train[['name', 'host_name']] = del_stop_words(X_train)\n",
    "X_test[['name', 'host_name']] = del_stop_words(X_test)\n",
    "\n",
    "tf_transformer_name = TfidfVectorizer(use_idf=False)\n",
    "tf_transformer_host_name = TfidfVectorizer(use_idf=False)\n",
    "tf_transformer_name.fit(data.name)\n",
    "tf_transformer_host_name.fit(data.host_name)\n",
    "\n",
    "text_data_test = sparse_hstack(([tf_transformer_name.transform(X_test.name), tf_transformer_host_name.transform(X_test.host_name)]))\n",
    "text_data_train = sparse_hstack(([tf_transformer_name.transform(X_train.name), tf_transformer_host_name.transform(X_train.host_name)]))\n",
    "\n",
    "features_test = sparse_hstack(([text_data_test, value_text_data_test, ketegorial_text_data_test]))\n",
    "features_train = sparse_hstack(([text_data_train, value_text_data_train, ketegorial_text_data_train]))\n",
    "\n",
    "nn = NearestNeighbors(n_neighbors=n_neighbors, algorithm='brute', metric=\"euclidean\")\n",
    "nn.fit(features_train)\n",
    "distances, indices = nn.kneighbors(features_test, n_neighbors)\n",
    "y_predict = (np.take(y_train, indices)).sum(axis=1) / n_neighbors\n",
    "print(RMSE(y_predict, y_test))\n",
    "\n",
    "\n",
    "# X_train, X_test = fold_counters(data)\n",
    "# X_train[['name', 'host_name']] = del_stop_word(X_train)\n",
    "# X_test[['name', 'host_name']] = del_stop_word(X_test)\n",
    "# y_train = X_train[\"price\"]\n",
    "# y_test = X_test[\"price\"]\n",
    "# X_train.drop([\"price\"], axis=1)\n",
    "# X_test.drop([\"price\"], axis=1)\n",
    "\n",
    "\n",
    "# not_text_data = csr_matrix(transform_data.drop(columns=[\"name\", \"host_name\", ]).values)\n",
    "\n",
    "# print(X_train, X_test)"
   ]
  },
  {
   "cell_type": "markdown",
   "metadata": {},
   "source": [
    "219.606341798662"
   ]
  },
  {
   "cell_type": "markdown",
   "metadata": {},
   "source": [
    "## Часть 4: Выводы\n"
   ]
  },
  {
   "cell_type": "markdown",
   "metadata": {},
   "source": [
    "# Ваши выводы здесь (ノ°∀°)ノ⌒･*:.｡. .｡.:*･゜ﾟ･*☆\n",
    "Обучение кастомных метрик на knn это просто что-то с чем-то. 2-4 часа для одного набора параметра. Поэтому пришлось результаты писать в markdown. Учитывая что на стандартных реализациях просчет происходит не больше пары минут. Учитывая что юпитер при простое просто вырубается было весело видеть что несколько часов ожидания ничего не дали. То что шаблон пришлось переписывать думаю и так известно. "
   ]
  },
  {
   "cell_type": "markdown",
   "metadata": {},
   "source": [
    "# По заданию\n",
    "1. Существует множество способов закодировать категориальные и текстовые признаки. Какие-то из них работают лучше чем другие\n",
    "2. Увеличение колличества соседей не обязательно ведет к улучшению качества\n",
    "3. Возникают сложности когда появляется признак в test, которого небыло в train\n",
    "4. Дополнительная информация в виде категориальных и текстовых признаков улучшает качество"
   ]
  }
 ],
 "metadata": {
  "kernelspec": {
   "display_name": "Python 3",
   "language": "python",
   "name": "python3"
  },
  "language_info": {
   "codemirror_mode": {
    "name": "ipython",
    "version": 3
   },
   "file_extension": ".py",
   "mimetype": "text/x-python",
   "name": "python",
   "nbconvert_exporter": "python",
   "pygments_lexer": "ipython3",
   "version": "3.7.4"
  }
 },
 "nbformat": 4,
 "nbformat_minor": 4
}
